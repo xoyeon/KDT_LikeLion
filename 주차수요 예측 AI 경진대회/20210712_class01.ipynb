{
 "cells": [
  {
   "cell_type": "code",
   "execution_count": 16,
   "metadata": {},
   "outputs": [],
   "source": [
    "import pandas as pd\n",
    "import numpy as np"
   ]
  },
  {
   "cell_type": "code",
   "execution_count": 4,
   "metadata": {},
   "outputs": [],
   "source": [
    "train = pd.read_csv(\"./dacon_prarking_demand_dataset/train.csv\")\n",
    "test = pd.read_csv(\"./dacon_prarking_demand_dataset/test.csv\")\n",
    "sub = pd.read_csv(\"./dacon_prarking_demand_dataset/sample_submission.csv\")\n",
    "age = pd.read_csv(\"./dacon_prarking_demand_dataset/age_gender_info.csv\")"
   ]
  },
  {
   "cell_type": "code",
   "execution_count": 6,
   "metadata": {},
   "outputs": [
    {
     "data": {
      "text/plain": [
       "((2952, 15), (1022, 14), (150, 2), (16, 23))"
      ]
     },
     "execution_count": 6,
     "metadata": {},
     "output_type": "execute_result"
    }
   ],
   "source": [
    "train.shape, test.shape, sub.shape, age.shape"
   ]
  },
  {
   "cell_type": "code",
   "execution_count": 7,
   "metadata": {},
   "outputs": [
    {
     "name": "stdout",
     "output_type": "stream",
     "text": [
      "<class 'pandas.core.frame.DataFrame'>\n",
      "RangeIndex: 2952 entries, 0 to 2951\n",
      "Data columns (total 15 columns):\n",
      " #   Column                        Non-Null Count  Dtype  \n",
      "---  ------                        --------------  -----  \n",
      " 0   단지코드                          2952 non-null   object \n",
      " 1   총세대수                          2952 non-null   int64  \n",
      " 2   임대건물구분                        2952 non-null   object \n",
      " 3   지역                            2952 non-null   object \n",
      " 4   공급유형                          2952 non-null   object \n",
      " 5   전용면적                          2952 non-null   float64\n",
      " 6   전용면적별세대수                      2952 non-null   int64  \n",
      " 7   공가수                           2952 non-null   float64\n",
      " 8   자격유형                          2952 non-null   object \n",
      " 9   임대보증금                         2383 non-null   object \n",
      " 10  임대료                           2383 non-null   object \n",
      " 11  도보 10분거리 내 지하철역 수(환승노선 수 반영)  2741 non-null   float64\n",
      " 12  도보 10분거리 내 버스정류장 수            2948 non-null   float64\n",
      " 13  단지내주차면수                       2952 non-null   float64\n",
      " 14  등록차량수                         2952 non-null   float64\n",
      "dtypes: float64(6), int64(2), object(7)\n",
      "memory usage: 346.1+ KB\n"
     ]
    }
   ],
   "source": [
    "train.info()"
   ]
  },
  {
   "cell_type": "code",
   "execution_count": 10,
   "metadata": {},
   "outputs": [
    {
     "name": "stdout",
     "output_type": "stream",
     "text": [
      "<class 'pandas.core.frame.DataFrame'>\n",
      "RangeIndex: 1022 entries, 0 to 1021\n",
      "Data columns (total 14 columns):\n",
      " #   Column                        Non-Null Count  Dtype  \n",
      "---  ------                        --------------  -----  \n",
      " 0   단지코드                          1022 non-null   object \n",
      " 1   총세대수                          1022 non-null   int64  \n",
      " 2   임대건물구분                        1022 non-null   object \n",
      " 3   지역                            1022 non-null   object \n",
      " 4   공급유형                          1022 non-null   object \n",
      " 5   전용면적                          1022 non-null   float64\n",
      " 6   전용면적별세대수                      1022 non-null   int64  \n",
      " 7   공가수                           1022 non-null   float64\n",
      " 8   자격유형                          1020 non-null   object \n",
      " 9   임대보증금                         842 non-null    object \n",
      " 10  임대료                           842 non-null    object \n",
      " 11  도보 10분거리 내 지하철역 수(환승노선 수 반영)  980 non-null    float64\n",
      " 12  도보 10분거리 내 버스정류장 수            1022 non-null   float64\n",
      " 13  단지내주차면수                       1022 non-null   float64\n",
      "dtypes: float64(5), int64(2), object(7)\n",
      "memory usage: 111.9+ KB\n"
     ]
    }
   ],
   "source": [
    "test.info()"
   ]
  },
  {
   "cell_type": "code",
   "execution_count": 5,
   "metadata": {},
   "outputs": [
    {
     "data": {
      "text/plain": [
       "단지코드                              0\n",
       "총세대수                              0\n",
       "임대건물구분                            0\n",
       "지역                                0\n",
       "공급유형                              0\n",
       "전용면적                              0\n",
       "전용면적별세대수                          0\n",
       "공가수                               0\n",
       "자격유형                              0\n",
       "임대보증금                           569\n",
       "임대료                             569\n",
       "도보 10분거리 내 지하철역 수(환승노선 수 반영)    211\n",
       "도보 10분거리 내 버스정류장 수                4\n",
       "단지내주차면수                           0\n",
       "등록차량수                             0\n",
       "dtype: int64"
      ]
     },
     "execution_count": 5,
     "metadata": {},
     "output_type": "execute_result"
    }
   ],
   "source": [
    "train.isna().sum()"
   ]
  },
  {
   "cell_type": "code",
   "execution_count": 6,
   "metadata": {},
   "outputs": [
    {
     "data": {
      "text/plain": [
       "단지코드                              0\n",
       "총세대수                              0\n",
       "임대건물구분                            0\n",
       "지역                                0\n",
       "공급유형                              0\n",
       "전용면적                              0\n",
       "전용면적별세대수                          0\n",
       "공가수                               0\n",
       "자격유형                              2\n",
       "임대보증금                           180\n",
       "임대료                             180\n",
       "도보 10분거리 내 지하철역 수(환승노선 수 반영)     42\n",
       "도보 10분거리 내 버스정류장 수                0\n",
       "단지내주차면수                           0\n",
       "dtype: int64"
      ]
     },
     "execution_count": 6,
     "metadata": {},
     "output_type": "execute_result"
    }
   ],
   "source": [
    "test.isna().sum()"
   ]
  },
  {
   "cell_type": "code",
   "execution_count": 7,
   "metadata": {},
   "outputs": [],
   "source": [
    "sel = ['총세대수']\n",
    "X_train = train[sel]\n",
    "X_test = test[sel]\n",
    "y_train = train['등록차량수']"
   ]
  },
  {
   "cell_type": "code",
   "execution_count": 8,
   "metadata": {},
   "outputs": [],
   "source": [
    "from sklearn.linear_model import LinearRegression"
   ]
  },
  {
   "cell_type": "code",
   "execution_count": 9,
   "metadata": {},
   "outputs": [
    {
     "data": {
      "text/plain": [
       "array([524.31256846, 524.31256846, 524.31256846, ..., 424.88994317,\n",
       "       424.88994317, 424.88994317])"
      ]
     },
     "execution_count": 9,
     "metadata": {},
     "output_type": "execute_result"
    }
   ],
   "source": [
    "model = LinearRegression()\n",
    "model.fit(X_train, y_train)\n",
    "pred = model.predict(X_test)\n",
    "pred"
   ]
  },
  {
   "cell_type": "code",
   "execution_count": 10,
   "metadata": {},
   "outputs": [
    {
     "data": {
      "text/plain": [
       "array(['C1072', 'C1128', 'C1456', 'C1840', 'C1332', 'C1563', 'C1794',\n",
       "       'C1640', 'C1377', 'C2072', 'C1472', 'C1006', 'C1083', 'C1311',\n",
       "       'C2676', 'C2318', 'C1603', 'C2523', 'C2177', 'C2411', 'C2033',\n",
       "       'C1604', 'C2535', 'C1040', 'C2417', 'C1812', 'C2253', 'C1294',\n",
       "       'C1772', 'C2646', 'C1152', 'C2423', 'C1844', 'C1318', 'C1729',\n",
       "       'C1602', 'C1239', 'C1721', 'C1902', 'C1855', 'C2600', 'C1071',\n",
       "       'C2295', 'C1621', 'C1852', 'C2555', 'C1297', 'C2323', 'C2215',\n",
       "       'C2112', 'C1830', 'C2602', 'C2608', 'C1215', 'C2369', 'C1158',\n",
       "       'C1887', 'C1189', 'C1637', 'C1225', 'C2374', 'C2397', 'C1105',\n",
       "       'C1782', 'C1629', 'C1708', 'C2144', 'C1617', 'C1149', 'C1323',\n",
       "       'C1064', 'C1019', 'C2269', 'C1416', 'C1250', 'C1741', 'C1016',\n",
       "       'C2675', 'C2436', 'C2039', 'C1253', 'C2028', 'C1166', 'C1135',\n",
       "       'C1216', 'C1593', 'C1826', 'C1827', 'C1564', 'C1495', 'C2653',\n",
       "       'C1392', 'C2128', 'C1282', 'C1521', 'C2076', 'C1060', 'C2473',\n",
       "       'C2557', 'C1835', 'C2224', 'C2222', 'C2430', 'C2497', 'C1494',\n",
       "       'C1457', 'C1525', 'C1712', 'C2267', 'C1623', 'C2131', 'C2691',\n",
       "       'C1147', 'C1692', 'C1570', 'C1474', 'C1633', 'C2113', 'C2175',\n",
       "       'C2303', 'C2547', 'C2292', 'C1496', 'C1289', 'C1849', 'C1003',\n",
       "       'C2268', 'C2551', 'C2688', 'C1030', 'C1327', 'C2451', 'C1749',\n",
       "       'C1349', 'C2043', 'C1229', 'C2363', 'C1414', 'C2174', 'C2091',\n",
       "       'C2335', 'C1841', 'C2404', 'C1683', 'C1038', 'C2456', 'C1266',\n",
       "       'C2152', 'C1267', 'C2189'], dtype=object)"
      ]
     },
     "execution_count": 10,
     "metadata": {},
     "output_type": "execute_result"
    }
   ],
   "source": [
    "test['단지코드'].unique()"
   ]
  },
  {
   "cell_type": "code",
   "execution_count": 13,
   "metadata": {},
   "outputs": [],
   "source": [
    "test['등록차량수'] = pred"
   ]
  },
  {
   "cell_type": "code",
   "execution_count": 14,
   "metadata": {},
   "outputs": [
    {
     "data": {
      "text/plain": [
       "단지코드\n",
       "C1003     451.081925\n",
       "C1006     725.028675\n",
       "C1016     494.646140\n",
       "C1019     408.586771\n",
       "C1030     342.839551\n",
       "            ...     \n",
       "C2653     557.720709\n",
       "C2675     459.634409\n",
       "C2676    1010.200560\n",
       "C2688     362.884435\n",
       "C2691     527.252485\n",
       "Name: 등록차량수, Length: 150, dtype: float64"
      ]
     },
     "execution_count": 14,
     "metadata": {},
     "output_type": "execute_result"
    }
   ],
   "source": [
    "test.groupby('단지코드')['등록차량수'].mean()"
   ]
  },
  {
   "cell_type": "code",
   "execution_count": 17,
   "metadata": {},
   "outputs": [
    {
     "data": {
      "text/html": [
       "<div>\n",
       "<style scoped>\n",
       "    .dataframe tbody tr th:only-of-type {\n",
       "        vertical-align: middle;\n",
       "    }\n",
       "\n",
       "    .dataframe tbody tr th {\n",
       "        vertical-align: top;\n",
       "    }\n",
       "\n",
       "    .dataframe thead th {\n",
       "        text-align: right;\n",
       "    }\n",
       "</style>\n",
       "<table border=\"1\" class=\"dataframe\">\n",
       "  <thead>\n",
       "    <tr style=\"text-align: right;\">\n",
       "      <th></th>\n",
       "      <th>index</th>\n",
       "      <th>단지코드</th>\n",
       "      <th>총세대수</th>\n",
       "      <th>임대건물구분</th>\n",
       "      <th>지역</th>\n",
       "      <th>공급유형</th>\n",
       "      <th>전용면적</th>\n",
       "      <th>전용면적별세대수</th>\n",
       "      <th>공가수</th>\n",
       "      <th>자격유형</th>\n",
       "      <th>임대보증금</th>\n",
       "      <th>임대료</th>\n",
       "      <th>도보 10분거리 내 지하철역 수(환승노선 수 반영)</th>\n",
       "      <th>도보 10분거리 내 버스정류장 수</th>\n",
       "      <th>단지내주차면수</th>\n",
       "      <th>등록차량수</th>\n",
       "      <th>코드별차량수평균</th>\n",
       "    </tr>\n",
       "  </thead>\n",
       "  <tbody>\n",
       "    <tr>\n",
       "      <th>0</th>\n",
       "      <td>0</td>\n",
       "      <td>C1072</td>\n",
       "      <td>754</td>\n",
       "      <td>아파트</td>\n",
       "      <td>경기도</td>\n",
       "      <td>국민임대</td>\n",
       "      <td>39.79</td>\n",
       "      <td>116</td>\n",
       "      <td>14.0</td>\n",
       "      <td>H</td>\n",
       "      <td>22830000</td>\n",
       "      <td>189840</td>\n",
       "      <td>0.0</td>\n",
       "      <td>2.0</td>\n",
       "      <td>683.0</td>\n",
       "      <td>524.312568</td>\n",
       "      <td>524.312568</td>\n",
       "    </tr>\n",
       "    <tr>\n",
       "      <th>1</th>\n",
       "      <td>8</td>\n",
       "      <td>C1128</td>\n",
       "      <td>1354</td>\n",
       "      <td>아파트</td>\n",
       "      <td>경기도</td>\n",
       "      <td>국민임대</td>\n",
       "      <td>39.79</td>\n",
       "      <td>368</td>\n",
       "      <td>9.0</td>\n",
       "      <td>H</td>\n",
       "      <td>22830000</td>\n",
       "      <td>189840</td>\n",
       "      <td>0.0</td>\n",
       "      <td>3.0</td>\n",
       "      <td>1216.0</td>\n",
       "      <td>684.671641</td>\n",
       "      <td>684.671641</td>\n",
       "    </tr>\n",
       "    <tr>\n",
       "      <th>2</th>\n",
       "      <td>17</td>\n",
       "      <td>C1456</td>\n",
       "      <td>619</td>\n",
       "      <td>아파트</td>\n",
       "      <td>부산광역시</td>\n",
       "      <td>국민임대</td>\n",
       "      <td>33.40</td>\n",
       "      <td>82</td>\n",
       "      <td>18.0</td>\n",
       "      <td>A</td>\n",
       "      <td>19706000</td>\n",
       "      <td>156200</td>\n",
       "      <td>0.0</td>\n",
       "      <td>16.0</td>\n",
       "      <td>547.0</td>\n",
       "      <td>488.231777</td>\n",
       "      <td>488.231777</td>\n",
       "    </tr>\n",
       "    <tr>\n",
       "      <th>3</th>\n",
       "      <td>26</td>\n",
       "      <td>C1840</td>\n",
       "      <td>593</td>\n",
       "      <td>아파트</td>\n",
       "      <td>전라북도</td>\n",
       "      <td>국민임대</td>\n",
       "      <td>39.57</td>\n",
       "      <td>253</td>\n",
       "      <td>7.0</td>\n",
       "      <td>A</td>\n",
       "      <td>14418000</td>\n",
       "      <td>108130</td>\n",
       "      <td>0.0</td>\n",
       "      <td>3.0</td>\n",
       "      <td>543.0</td>\n",
       "      <td>481.282884</td>\n",
       "      <td>481.282884</td>\n",
       "    </tr>\n",
       "    <tr>\n",
       "      <th>4</th>\n",
       "      <td>30</td>\n",
       "      <td>C1332</td>\n",
       "      <td>1297</td>\n",
       "      <td>아파트</td>\n",
       "      <td>경기도</td>\n",
       "      <td>국민임대</td>\n",
       "      <td>39.99</td>\n",
       "      <td>282</td>\n",
       "      <td>11.0</td>\n",
       "      <td>H</td>\n",
       "      <td>28598000</td>\n",
       "      <td>203050</td>\n",
       "      <td>0.0</td>\n",
       "      <td>2.0</td>\n",
       "      <td>1112.0</td>\n",
       "      <td>669.437530</td>\n",
       "      <td>669.437530</td>\n",
       "    </tr>\n",
       "    <tr>\n",
       "      <th>...</th>\n",
       "      <td>...</td>\n",
       "      <td>...</td>\n",
       "      <td>...</td>\n",
       "      <td>...</td>\n",
       "      <td>...</td>\n",
       "      <td>...</td>\n",
       "      <td>...</td>\n",
       "      <td>...</td>\n",
       "      <td>...</td>\n",
       "      <td>...</td>\n",
       "      <td>...</td>\n",
       "      <td>...</td>\n",
       "      <td>...</td>\n",
       "      <td>...</td>\n",
       "      <td>...</td>\n",
       "      <td>...</td>\n",
       "      <td>...</td>\n",
       "    </tr>\n",
       "    <tr>\n",
       "      <th>145</th>\n",
       "      <td>996</td>\n",
       "      <td>C2456</td>\n",
       "      <td>349</td>\n",
       "      <td>아파트</td>\n",
       "      <td>제주특별자치도</td>\n",
       "      <td>국민임대</td>\n",
       "      <td>26.44</td>\n",
       "      <td>24</td>\n",
       "      <td>17.0</td>\n",
       "      <td>H</td>\n",
       "      <td>6992000</td>\n",
       "      <td>117000</td>\n",
       "      <td>0.0</td>\n",
       "      <td>4.0</td>\n",
       "      <td>270.0</td>\n",
       "      <td>416.070194</td>\n",
       "      <td>416.070194</td>\n",
       "    </tr>\n",
       "    <tr>\n",
       "      <th>146</th>\n",
       "      <td>1000</td>\n",
       "      <td>C1266</td>\n",
       "      <td>596</td>\n",
       "      <td>아파트</td>\n",
       "      <td>충청북도</td>\n",
       "      <td>국민임대</td>\n",
       "      <td>26.94</td>\n",
       "      <td>164</td>\n",
       "      <td>35.0</td>\n",
       "      <td>H</td>\n",
       "      <td>8084000</td>\n",
       "      <td>149910</td>\n",
       "      <td>0.0</td>\n",
       "      <td>1.0</td>\n",
       "      <td>593.0</td>\n",
       "      <td>482.084679</td>\n",
       "      <td>482.084679</td>\n",
       "    </tr>\n",
       "    <tr>\n",
       "      <th>147</th>\n",
       "      <td>1005</td>\n",
       "      <td>C2152</td>\n",
       "      <td>120</td>\n",
       "      <td>아파트</td>\n",
       "      <td>강원도</td>\n",
       "      <td>영구임대</td>\n",
       "      <td>24.83</td>\n",
       "      <td>66</td>\n",
       "      <td>9.0</td>\n",
       "      <td>C</td>\n",
       "      <td>-</td>\n",
       "      <td>-</td>\n",
       "      <td>0.0</td>\n",
       "      <td>1.0</td>\n",
       "      <td>40.0</td>\n",
       "      <td>354.866481</td>\n",
       "      <td>354.866481</td>\n",
       "    </tr>\n",
       "    <tr>\n",
       "      <th>148</th>\n",
       "      <td>1007</td>\n",
       "      <td>C1267</td>\n",
       "      <td>675</td>\n",
       "      <td>아파트</td>\n",
       "      <td>경상남도</td>\n",
       "      <td>국민임대</td>\n",
       "      <td>24.87</td>\n",
       "      <td>28</td>\n",
       "      <td>38.0</td>\n",
       "      <td>H</td>\n",
       "      <td>6882000</td>\n",
       "      <td>104370</td>\n",
       "      <td>0.0</td>\n",
       "      <td>1.0</td>\n",
       "      <td>467.0</td>\n",
       "      <td>503.198624</td>\n",
       "      <td>503.198624</td>\n",
       "    </tr>\n",
       "    <tr>\n",
       "      <th>149</th>\n",
       "      <td>1018</td>\n",
       "      <td>C2189</td>\n",
       "      <td>382</td>\n",
       "      <td>아파트</td>\n",
       "      <td>전라북도</td>\n",
       "      <td>국민임대</td>\n",
       "      <td>29.19</td>\n",
       "      <td>96</td>\n",
       "      <td>45.0</td>\n",
       "      <td>H</td>\n",
       "      <td>6872000</td>\n",
       "      <td>106400</td>\n",
       "      <td>0.0</td>\n",
       "      <td>2.0</td>\n",
       "      <td>300.0</td>\n",
       "      <td>424.889943</td>\n",
       "      <td>424.889943</td>\n",
       "    </tr>\n",
       "  </tbody>\n",
       "</table>\n",
       "<p>150 rows × 17 columns</p>\n",
       "</div>"
      ],
      "text/plain": [
       "     index   단지코드  총세대수 임대건물구분       지역  공급유형   전용면적  전용면적별세대수   공가수 자격유형  \\\n",
       "0        0  C1072   754    아파트      경기도  국민임대  39.79       116  14.0    H   \n",
       "1        8  C1128  1354    아파트      경기도  국민임대  39.79       368   9.0    H   \n",
       "2       17  C1456   619    아파트    부산광역시  국민임대  33.40        82  18.0    A   \n",
       "3       26  C1840   593    아파트     전라북도  국민임대  39.57       253   7.0    A   \n",
       "4       30  C1332  1297    아파트      경기도  국민임대  39.99       282  11.0    H   \n",
       "..     ...    ...   ...    ...      ...   ...    ...       ...   ...  ...   \n",
       "145    996  C2456   349    아파트  제주특별자치도  국민임대  26.44        24  17.0    H   \n",
       "146   1000  C1266   596    아파트     충청북도  국민임대  26.94       164  35.0    H   \n",
       "147   1005  C2152   120    아파트      강원도  영구임대  24.83        66   9.0    C   \n",
       "148   1007  C1267   675    아파트     경상남도  국민임대  24.87        28  38.0    H   \n",
       "149   1018  C2189   382    아파트     전라북도  국민임대  29.19        96  45.0    H   \n",
       "\n",
       "        임대보증금     임대료  도보 10분거리 내 지하철역 수(환승노선 수 반영)  도보 10분거리 내 버스정류장 수  \\\n",
       "0    22830000  189840                           0.0                 2.0   \n",
       "1    22830000  189840                           0.0                 3.0   \n",
       "2    19706000  156200                           0.0                16.0   \n",
       "3    14418000  108130                           0.0                 3.0   \n",
       "4    28598000  203050                           0.0                 2.0   \n",
       "..        ...     ...                           ...                 ...   \n",
       "145   6992000  117000                           0.0                 4.0   \n",
       "146   8084000  149910                           0.0                 1.0   \n",
       "147         -       -                           0.0                 1.0   \n",
       "148   6882000  104370                           0.0                 1.0   \n",
       "149   6872000  106400                           0.0                 2.0   \n",
       "\n",
       "     단지내주차면수       등록차량수    코드별차량수평균  \n",
       "0      683.0  524.312568  524.312568  \n",
       "1     1216.0  684.671641  684.671641  \n",
       "2      547.0  488.231777  488.231777  \n",
       "3      543.0  481.282884  481.282884  \n",
       "4     1112.0  669.437530  669.437530  \n",
       "..       ...         ...         ...  \n",
       "145    270.0  416.070194  416.070194  \n",
       "146    593.0  482.084679  482.084679  \n",
       "147     40.0  354.866481  354.866481  \n",
       "148    467.0  503.198624  503.198624  \n",
       "149    300.0  424.889943  424.889943  \n",
       "\n",
       "[150 rows x 17 columns]"
      ]
     },
     "execution_count": 17,
     "metadata": {},
     "output_type": "execute_result"
    }
   ],
   "source": [
    "test['등록차량수'] = pred\n",
    "test['코드별차량수평균'] = test.groupby('단지코드')['등록차량수'].transform(np.mean)\n",
    "test_new = test.drop_duplicates(['단지코드'], keep='first').reset_index()\n",
    "test_new"
   ]
  },
  {
   "cell_type": "code",
   "execution_count": 18,
   "metadata": {},
   "outputs": [
    {
     "data": {
      "text/html": [
       "<div>\n",
       "<style scoped>\n",
       "    .dataframe tbody tr th:only-of-type {\n",
       "        vertical-align: middle;\n",
       "    }\n",
       "\n",
       "    .dataframe tbody tr th {\n",
       "        vertical-align: top;\n",
       "    }\n",
       "\n",
       "    .dataframe thead th {\n",
       "        text-align: right;\n",
       "    }\n",
       "</style>\n",
       "<table border=\"1\" class=\"dataframe\">\n",
       "  <thead>\n",
       "    <tr style=\"text-align: right;\">\n",
       "      <th></th>\n",
       "      <th>code</th>\n",
       "      <th>num</th>\n",
       "    </tr>\n",
       "  </thead>\n",
       "  <tbody>\n",
       "    <tr>\n",
       "      <th>0</th>\n",
       "      <td>C1072</td>\n",
       "      <td>524.312568</td>\n",
       "    </tr>\n",
       "    <tr>\n",
       "      <th>1</th>\n",
       "      <td>C1128</td>\n",
       "      <td>684.671641</td>\n",
       "    </tr>\n",
       "    <tr>\n",
       "      <th>2</th>\n",
       "      <td>C1456</td>\n",
       "      <td>488.231777</td>\n",
       "    </tr>\n",
       "    <tr>\n",
       "      <th>3</th>\n",
       "      <td>C1840</td>\n",
       "      <td>481.282884</td>\n",
       "    </tr>\n",
       "    <tr>\n",
       "      <th>4</th>\n",
       "      <td>C1332</td>\n",
       "      <td>669.437530</td>\n",
       "    </tr>\n",
       "    <tr>\n",
       "      <th>...</th>\n",
       "      <td>...</td>\n",
       "      <td>...</td>\n",
       "    </tr>\n",
       "    <tr>\n",
       "      <th>145</th>\n",
       "      <td>C2456</td>\n",
       "      <td>416.070194</td>\n",
       "    </tr>\n",
       "    <tr>\n",
       "      <th>146</th>\n",
       "      <td>C1266</td>\n",
       "      <td>482.084679</td>\n",
       "    </tr>\n",
       "    <tr>\n",
       "      <th>147</th>\n",
       "      <td>C2152</td>\n",
       "      <td>354.866481</td>\n",
       "    </tr>\n",
       "    <tr>\n",
       "      <th>148</th>\n",
       "      <td>C1267</td>\n",
       "      <td>503.198624</td>\n",
       "    </tr>\n",
       "    <tr>\n",
       "      <th>149</th>\n",
       "      <td>C2189</td>\n",
       "      <td>424.889943</td>\n",
       "    </tr>\n",
       "  </tbody>\n",
       "</table>\n",
       "<p>150 rows × 2 columns</p>\n",
       "</div>"
      ],
      "text/plain": [
       "      code         num\n",
       "0    C1072  524.312568\n",
       "1    C1128  684.671641\n",
       "2    C1456  488.231777\n",
       "3    C1840  481.282884\n",
       "4    C1332  669.437530\n",
       "..     ...         ...\n",
       "145  C2456  416.070194\n",
       "146  C1266  482.084679\n",
       "147  C2152  354.866481\n",
       "148  C1267  503.198624\n",
       "149  C2189  424.889943\n",
       "\n",
       "[150 rows x 2 columns]"
      ]
     },
     "execution_count": 18,
     "metadata": {},
     "output_type": "execute_result"
    }
   ],
   "source": [
    "sub_df = test_new[ ['단지코드', '코드별차량수평균']]\n",
    "sub_df.columns = ['code', 'num']\n",
    "sub_df"
   ]
  },
  {
   "cell_type": "code",
   "execution_count": 19,
   "metadata": {},
   "outputs": [],
   "source": [
    "sub_df.to_csv('baseline_0712.csv', index=False)"
   ]
  },
  {
   "cell_type": "code",
   "execution_count": null,
   "metadata": {},
   "outputs": [],
   "source": []
  }
 ],
 "metadata": {
  "kernelspec": {
   "display_name": "Python 3",
   "language": "python",
   "name": "python3"
  },
  "language_info": {
   "codemirror_mode": {
    "name": "ipython",
    "version": 3
   },
   "file_extension": ".py",
   "mimetype": "text/x-python",
   "name": "python",
   "nbconvert_exporter": "python",
   "pygments_lexer": "ipython3",
   "version": "3.8.5"
  }
 },
 "nbformat": 4,
 "nbformat_minor": 4
}
