{
 "cells": [
  {
   "cell_type": "code",
   "execution_count": 78,
   "metadata": {},
   "outputs": [],
   "source": [
    "import os  #주피터 노트북의 현재 위치"
   ]
  },
  {
   "cell_type": "code",
   "execution_count": 79,
   "metadata": {},
   "outputs": [
    {
     "data": {
      "text/plain": [
       "'C:\\\\Users\\\\user\\\\Documents\\\\Jupyter Notebook\\\\Selenium'"
      ]
     },
     "execution_count": 79,
     "metadata": {},
     "output_type": "execute_result"
    }
   ],
   "source": [
    "os.getcwd()"
   ]
  },
  {
   "cell_type": "code",
   "execution_count": 80,
   "metadata": {},
   "outputs": [],
   "source": [
    "from selenium import webdriver\n",
    "from bs4 import BeautifulSoup"
   ]
  },
  {
   "cell_type": "code",
   "execution_count": 81,
   "metadata": {
    "scrolled": true
   },
   "outputs": [],
   "source": [
    "driver = webdriver.Chrome(\"./chromedriver\")"
   ]
  },
  {
   "cell_type": "code",
   "execution_count": 7,
   "metadata": {},
   "outputs": [],
   "source": [
    "url = \"https://www.amazon.com/\"\n",
    "driver.get(url)"
   ]
  },
  {
   "cell_type": "code",
   "execution_count": 9,
   "metadata": {},
   "outputs": [],
   "source": [
    "# //*[@id=\"twotabsearchtextbox\"]\n",
    "# //*[@id=\"nav-search-submit-button\"]"
   ]
  },
  {
   "cell_type": "code",
   "execution_count": 11,
   "metadata": {},
   "outputs": [
    {
     "name": "stdout",
     "output_type": "stream",
     "text": [
      "input input\n"
     ]
    }
   ],
   "source": [
    "sel_search = driver.find_element_by_xpath('//*[@id=\"twotabsearchtextbox\"]')\n",
    "sel_btn = driver.find_element_by_xpath('//*[@id=\"nav-search-submit-button\"]')\n",
    "\n",
    "# print(sel_search, sel_btn)\n",
    "print(sel_search.tag_name, sel_btn.tag_name)"
   ]
  },
  {
   "cell_type": "code",
   "execution_count": 12,
   "metadata": {},
   "outputs": [],
   "source": [
    "sel_search.clear()\n",
    "sel_search.send_keys(\"computer\")\n",
    "sel_btn.click()"
   ]
  },
  {
   "cell_type": "markdown",
   "metadata": {},
   "source": [
    "### 2-4 (실습) 검색한 정보의 첫번째 제품의 url을 가져와 보자."
   ]
  },
  {
   "cell_type": "code",
   "execution_count": 43,
   "metadata": {},
   "outputs": [
    {
     "data": {
      "text/plain": [
       "<title>Amazon.com : computer</title>"
      ]
     },
     "execution_count": 43,
     "metadata": {},
     "output_type": "execute_result"
    }
   ],
   "source": [
    "page = driver.page_source\n",
    "soup = BeautifulSoup(page, 'html.parser')\n",
    "soup.title"
   ]
  },
  {
   "cell_type": "code",
   "execution_count": 44,
   "metadata": {},
   "outputs": [
    {
     "data": {
      "text/plain": [
       "'https://www.amazon.com/s?k=computer&ref=nb_sb_noss'"
      ]
     },
     "execution_count": 44,
     "metadata": {},
     "output_type": "execute_result"
    }
   ],
   "source": [
    "current_url = driver.current_url\n",
    "current_url"
   ]
  },
  {
   "cell_type": "code",
   "execution_count": 45,
   "metadata": {},
   "outputs": [
    {
     "name": "stdout",
     "output_type": "stream",
     "text": [
      "<h2 class=\"a-size-mini a-spacing-none a-color-base s-line-clamp-2\"><a class=\"a-link-normal a-text-normal\" href=\"/gp/slredirect/picassoRedirect.html/ref=pa_sp_atf_aps_sr_pg1_1?ie=UTF8&amp;adId=A10213982AI9DWSTKE0B9&amp;url=%2FHP-Computer-Periphio-Wireless-Keyboard%2Fdp%2FB08RQFWK15%2Fref%3Dsr_1_1_sspa%3Fdchild%3D1%26keywords%3Dcomputer%26qid%3D1624238828%26sr%3D8-1-spons%26psc%3D1&amp;qualifier=1624238828&amp;id=3720463227994891&amp;widgetName=sp_atf\"><span class=\"a-size-medium a-color-base a-text-normal\">HP ProDesk 600 G3 PC Desktop Computer, Intel i5-6500 3.4GHz, 8GB RAM, 240GB SSD, Windows 10 Pro, New 1080p Periphio Webcam, New Periphio Wireless Keyboard &amp; Mouse, New 16GB Flash Drive, WiFi (Renewed)</span> </a> </h2>\n"
     ]
    }
   ],
   "source": [
    "tmp = soup.find_all('h2', class_ = \"a-size-mini a-spacing-none a-color-base s-line-clamp-2\")[0]\n",
    "print(tmp)"
   ]
  },
  {
   "cell_type": "code",
   "execution_count": 46,
   "metadata": {},
   "outputs": [
    {
     "data": {
      "text/plain": [
       "'https://www.amazon.com/s?k=computer&ref=nb_sb_noss/gp/slredirect/picassoRedirect.html/ref=pa_sp_atf_aps_sr_pg1_1?ie=UTF8&adId=A10213982AI9DWSTKE0B9&url=%2FHP-Computer-Periphio-Wireless-Keyboard%2Fdp%2FB08RQFWK15%2Fref%3Dsr_1_1_sspa%3Fdchild%3D1%26keywords%3Dcomputer%26qid%3D1624238828%26sr%3D8-1-spons%26psc%3D1&qualifier=1624238828&id=3720463227994891&widgetName=sp_atf'"
      ]
     },
     "execution_count": 46,
     "metadata": {},
     "output_type": "execute_result"
    }
   ],
   "source": [
    "# 전체 URL을 얻는다.\n",
    "current_url + tmp.a.attrs['href']"
   ]
  },
  {
   "cell_type": "code",
   "execution_count": 47,
   "metadata": {
    "collapsed": true
   },
   "outputs": [
    {
     "data": {
      "text/plain": [
       "'https://www.amazon.com/gp/slredirect/picassoRedirect.html/ref=pa_sp_atf_aps_sr_pg1_1?ie=UTF8&adId=A0523806AFUNZODMSRM9&url=%2FComputer-GX-415GA-Quad-Core-Processor-Activated%2Fdp%2FB08PFKNNK8%2Fref%3Dsr_1_2_sspa%3Fdchild%3D1%26keywords%3Dcomputer%26qid%3D1624238828%26sr%3D8-2-spons%26psc%3D1&qualifier=1624238828&id=3720463227994891&widgetName=sp_atf'"
      ]
     },
     "execution_count": 47,
     "metadata": {},
     "output_type": "execute_result"
    }
   ],
   "source": [
    "sel_url = driver.find_element_by_xpath('//*[@id=\"search\"]/div[1]/div/div[1]/div/span[3]/div[2]/div[2]/div/span/div/div/div/div/div[2]/div[2]/div/div[1]/h2/a')\n",
    "sel_url.get_attribute('href')"
   ]
  },
  {
   "cell_type": "code",
   "execution_count": 50,
   "metadata": {},
   "outputs": [],
   "source": [
    "url = 'https://www.amazon.com/HP-MicroTower-DVD-Writer-V9E67AA-ABA/dp/B08K3KPTSB/ref=sr_1_1_sspa?adI'\n",
    "driver.get(url)"
   ]
  },
  {
   "cell_type": "code",
   "execution_count": null,
   "metadata": {},
   "outputs": [],
   "source": [
    "# 기계가 아님을 나타내기 위한 시간 지연\n",
    "import time\n",
    "time.sleep(3)"
   ]
  },
  {
   "cell_type": "code",
   "execution_count": 51,
   "metadata": {},
   "outputs": [],
   "source": [
    "# //*[@id=\"acrCustomerReviewText\"]\n",
    "sel_rate = driver.find_element_by_xpath('//*[@id=\"acrCustomerReviewText\"]')\n",
    "sel_rate.click()"
   ]
  },
  {
   "cell_type": "code",
   "execution_count": 53,
   "metadata": {},
   "outputs": [],
   "source": [
    "# //*[@id=\"reviews-medley-footer\"]/div[2]/a\n",
    "sel_review = driver.find_element_by_xpath('//*[@id=\"reviews-medley-footer\"]/div[2]/a')\n",
    "sel_review.click()"
   ]
  },
  {
   "cell_type": "markdown",
   "metadata": {},
   "source": [
    "### 3-2 (실습) 대상 페이지의 리뷰 가져오기"
   ]
  },
  {
   "cell_type": "code",
   "execution_count": 62,
   "metadata": {},
   "outputs": [
    {
     "data": {
      "text/plain": [
       "<title>Amazon.com: Customer reviews: HP ProDesk 600 G3 MicroTower Desktop PC Intel i5-7500 3.40 GHz 8 GB DDR4 SDRAM 1 TB Windows 10 Pro 64-bit DVD-Writer DVD177 with HP VH22 21.5\" LED Monitor (V9E67AA#ABA) and Keyboard Mouse</title>"
      ]
     },
     "execution_count": 62,
     "metadata": {},
     "output_type": "execute_result"
    }
   ],
   "source": [
    "page = driver.page_source\n",
    "soup = BeautifulSoup(page, \"lxml\")\n",
    "soup.title"
   ]
  },
  {
   "cell_type": "code",
   "execution_count": 72,
   "metadata": {},
   "outputs": [
    {
     "data": {
      "text/plain": [
       "8"
      ]
     },
     "execution_count": 72,
     "metadata": {},
     "output_type": "execute_result"
    }
   ],
   "source": [
    "all_r = soup.find_all(\"span\", class_ = \"a-size-base review-text review-text-content\")\n",
    "len(all_r)\n",
    "# all_r[0].text"
   ]
  },
  {
   "cell_type": "code",
   "execution_count": 73,
   "metadata": {},
   "outputs": [
    {
     "data": {
      "text/plain": [
       "['  This was a great value compared to retail shops around town. Bundles locally were around $999, I saved a few hundred dollars and got a pro series PC instead of a consumer-grade.  Better quality all around. Love the versatility of the convertible micro tower and the monitor is clear and sharp - and really like the 1TB drive!',\n",
       " '  Shopped around and found this bundle that more than met my requirements. Ordered and received in 3 days, set up was uncomplicated w Windows10 already installed and the 21\" monitor is the perfect size. The vendor was responsive and that was critical in deciding to make this purchase. Very happy with my new desktop.',\n",
       " '  Have had 9 hp laptops over the years and never had any trouble setting them up.  This desktop had programming problems right from the start.  Hp was helpful in sending me a new flash drive but unfortunately it was orrupt also.  Then I spent $59.99 to have for their on the spot repair but that was also futile.  Had to return it to Amazon for a refund.  I.e. my 1 star rating.',\n",
       " '  Great computer! Good for families and school work.',\n",
       " '  Seller did help to try get it going with no luck, and did help me return it..So it worked out OK.',\n",
       " '  J U N K',\n",
       " '  Great computer',\n",
       " '  Terrible video quality - hard to understand set up instructions ! Not worth the price']"
      ]
     },
     "execution_count": 73,
     "metadata": {},
     "output_type": "execute_result"
    }
   ],
   "source": [
    "all_review = []\n",
    "for one in all_r:\n",
    "    tmp = one.text\n",
    "#     print(tmp)\n",
    "    review = tmp.replace(\"\\n\",\"\")\n",
    "#     print(review)\n",
    "    all_review.append(review)\n",
    "\n",
    "all_review"
   ]
  },
  {
   "cell_type": "code",
   "execution_count": 74,
   "metadata": {},
   "outputs": [],
   "source": [
    "import pandas as pd"
   ]
  },
  {
   "cell_type": "code",
   "execution_count": 75,
   "metadata": {},
   "outputs": [
    {
     "data": {
      "text/html": [
       "<div>\n",
       "<style scoped>\n",
       "    .dataframe tbody tr th:only-of-type {\n",
       "        vertical-align: middle;\n",
       "    }\n",
       "\n",
       "    .dataframe tbody tr th {\n",
       "        vertical-align: top;\n",
       "    }\n",
       "\n",
       "    .dataframe thead th {\n",
       "        text-align: right;\n",
       "    }\n",
       "</style>\n",
       "<table border=\"1\" class=\"dataframe\">\n",
       "  <thead>\n",
       "    <tr style=\"text-align: right;\">\n",
       "      <th></th>\n",
       "      <th>review</th>\n",
       "    </tr>\n",
       "  </thead>\n",
       "  <tbody>\n",
       "    <tr>\n",
       "      <th>0</th>\n",
       "      <td>This was a great value compared to retail sh...</td>\n",
       "    </tr>\n",
       "    <tr>\n",
       "      <th>1</th>\n",
       "      <td>Shopped around and found this bundle that mo...</td>\n",
       "    </tr>\n",
       "    <tr>\n",
       "      <th>2</th>\n",
       "      <td>Have had 9 hp laptops over the years and nev...</td>\n",
       "    </tr>\n",
       "    <tr>\n",
       "      <th>3</th>\n",
       "      <td>Great computer! Good for families and school...</td>\n",
       "    </tr>\n",
       "    <tr>\n",
       "      <th>4</th>\n",
       "      <td>Seller did help to try get it going with no ...</td>\n",
       "    </tr>\n",
       "    <tr>\n",
       "      <th>5</th>\n",
       "      <td>J U N K</td>\n",
       "    </tr>\n",
       "    <tr>\n",
       "      <th>6</th>\n",
       "      <td>Great computer</td>\n",
       "    </tr>\n",
       "    <tr>\n",
       "      <th>7</th>\n",
       "      <td>Terrible video quality - hard to understand ...</td>\n",
       "    </tr>\n",
       "  </tbody>\n",
       "</table>\n",
       "</div>"
      ],
      "text/plain": [
       "                                              review\n",
       "0    This was a great value compared to retail sh...\n",
       "1    Shopped around and found this bundle that mo...\n",
       "2    Have had 9 hp laptops over the years and nev...\n",
       "3    Great computer! Good for families and school...\n",
       "4    Seller did help to try get it going with no ...\n",
       "5                                            J U N K\n",
       "6                                     Great computer\n",
       "7    Terrible video quality - hard to understand ..."
      ]
     },
     "execution_count": 75,
     "metadata": {},
     "output_type": "execute_result"
    }
   ],
   "source": [
    "dat_r = {'review' : all_review}\n",
    "dat = pd.DataFrame(dat_r)\n",
    "dat"
   ]
  },
  {
   "cell_type": "code",
   "execution_count": 76,
   "metadata": {},
   "outputs": [],
   "source": [
    "dat.to_csv(\"review.csv\", index = False)"
   ]
  },
  {
   "cell_type": "markdown",
   "metadata": {},
   "source": [
    "### 3-3 하나의 제품 여러 페이지 리뷰 정보 가져오기 실습해 보기"
   ]
  },
  {
   "cell_type": "code",
   "execution_count": 82,
   "metadata": {},
   "outputs": [],
   "source": [
    "url = 'https://www.amazon.com/dp/B08TH74YMZ?pd_rd_i=B08TH74YMZ&pd_rd_w=TYmcL&pf_rd_p=3465d0d7-4e28-4692-b633-326c458deaa4&pd_rd_wg=SqJBm&pf_rd_r=E0WJ4Q9DDKHE5WSMNPXR&pd_rd_r=f4e599ae-ea27-4cf7-a181-f18f3904a80d'\n",
    "driver.get(url)"
   ]
  },
  {
   "cell_type": "code",
   "execution_count": 83,
   "metadata": {},
   "outputs": [
    {
     "data": {
      "text/plain": [
       "<title>Amazon.com: Silicone Letter Mold and Chocolate Mold with Happy Birthday Cake Decorations Symbols and Valentine Candy Chocolate Making Mold (2pcs) (2, Brown): Kitchen &amp; Dining</title>"
      ]
     },
     "execution_count": 83,
     "metadata": {},
     "output_type": "execute_result"
    }
   ],
   "source": [
    "page = driver.page_source\n",
    "soup = BeautifulSoup(page, \"lxml\")\n",
    "soup.title"
   ]
  },
  {
   "cell_type": "code",
   "execution_count": 89,
   "metadata": {},
   "outputs": [
    {
     "data": {
      "text/plain": [
       "82"
      ]
     },
     "execution_count": 89,
     "metadata": {},
     "output_type": "execute_result"
    }
   ],
   "source": [
    "all_r = soup.find_all(\"span\", class_ = \"a-size-base\")\n",
    "len(all_r)"
   ]
  }
 ],
 "metadata": {
  "kernelspec": {
   "display_name": "Python 3",
   "language": "python",
   "name": "python3"
  },
  "language_info": {
   "codemirror_mode": {
    "name": "ipython",
    "version": 3
   },
   "file_extension": ".py",
   "mimetype": "text/x-python",
   "name": "python",
   "nbconvert_exporter": "python",
   "pygments_lexer": "ipython3",
   "version": "3.8.5"
  }
 },
 "nbformat": 4,
 "nbformat_minor": 4
}
