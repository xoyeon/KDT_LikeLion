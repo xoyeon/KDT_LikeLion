{
 "cells": [
  {
   "cell_type": "code",
   "execution_count": 132,
   "metadata": {},
   "outputs": [],
   "source": [
    "import os, warnings\n",
    "import re\n",
    "warnings.filterwarnings(action = 'ignore')"
   ]
  },
  {
   "cell_type": "code",
   "execution_count": 133,
   "metadata": {},
   "outputs": [],
   "source": [
    "from selenium import webdriver\n",
    "from bs4 import BeautifulSoup"
   ]
  },
  {
   "cell_type": "code",
   "execution_count": 134,
   "metadata": {},
   "outputs": [],
   "source": [
    "driver = webdriver.Chrome('./chromedriver')\n",
    "\n",
    "## https://www.amazon.com/\n",
    "url = 'https://www.amazon.com/I-Love-You-Through/dp/0439673631/ref=pd_bkstr_rtpb_11?_encoding=UTF8&pd_rd_i=0439673631&pd_rd_r=b6408368-b4ad-4216-a355-4a9b5d3783ed&pd_rd_w=ctM06&pd_rd_wg=IqFxz&pf_rd_p=bde336d5-3a2a-4b7b-8e18-de1f4aaea610&pf_rd_r=65N1HJRRQHTWVKNBT9W6&psc=1&refRID=2XWPSHYF7973Q8W8T00B'\n",
    "driver.get(url)"
   ]
  },
  {
   "cell_type": "code",
   "execution_count": 135,
   "metadata": {},
   "outputs": [],
   "source": [
    "sel_rate = driver.find_element_by_xpath('//*[@id=\"acrCustomerReviewText\"]')\n",
    "sel_rate.click()"
   ]
  },
  {
   "cell_type": "code",
   "execution_count": 136,
   "metadata": {},
   "outputs": [],
   "source": [
    "sel_review = driver.find_element_by_xpath('//*[@id=\"cr-pagination-footer-0\"]/a')\n",
    "sel_review.click()"
   ]
  },
  {
   "cell_type": "markdown",
   "metadata": {},
   "source": [
    "## 리뷰 한 페이지 가져오기"
   ]
  },
  {
   "cell_type": "code",
   "execution_count": 137,
   "metadata": {},
   "outputs": [
    {
     "data": {
      "text/plain": [
       "<title>Amazon.com: Customer reviews: I Love You Through and Through (Caroline Jayne Church)</title>"
      ]
     },
     "execution_count": 137,
     "metadata": {},
     "output_type": "execute_result"
    }
   ],
   "source": [
    "page = driver.page_source\n",
    "soup = BeautifulSoup(page, 'html.parser')\n",
    "soup.title"
   ]
  },
  {
   "cell_type": "code",
   "execution_count": 138,
   "metadata": {},
   "outputs": [
    {
     "name": "stdout",
     "output_type": "stream",
     "text": [
      "리뷰 개수 :  10\n",
      "My friend told me this is a great bonding book that builds healthy attachement. She reccomended it for my 4 year old. I am not sure if there are 2 version but this is definetly not for his age. It is a beautiful cute lovely book. Love the messages & cute pictures. The pages are really nice and sturdy. comfortable cover. BUT its dissapointing cuz it's a one liner per page and he doesnt want me to read this one. I believe this is the perfect book to start reading when baby is a few months and then maybe if you read it so many times then by 4 a child will still love it because it is familiar, there are many bonding moments/memories associated with the book. I wish they had a version for older kids. I didnt return it cuz its a good quality book and it was a very good price. and I am still hoping my son will start enjoying it because the message is so great and so important. I doubt it though. This is really a 5 star book but for me its a 2-3 stars cuz just doesnt work for me.\n",
      "Unlike the other books in the series, this book doesn’t flow as well because there’s not enough words in the pages. My son asked for it and I figured I’d buy it since I liked the others in the series and this one was on sale... wish I hadn’t, but my son likes it so I can’t return. On the plus side, he memorized it already and reads it to himself now :)\n"
     ]
    }
   ],
   "source": [
    "all_r = soup.find_all(\"span\", class_ = \"a-size-base review-text review-text-content\")\n",
    "\n",
    "all_review = []\n",
    "for one in all_r:\n",
    "    tmp = one.text\n",
    "    review = tmp.strip()\n",
    "    all_review.append(review)\n",
    "\n",
    "print(\"리뷰 개수 : \", len(all_review))\n",
    "print(all_review[0], all_review[-1], sep =\"\\n\")"
   ]
  },
  {
   "cell_type": "markdown",
   "metadata": {},
   "source": [
    "### 4-3 실습 - 추가 정보 가져오기\n",
    "* 사용자 이름\n",
    "* 평점\n",
    "* 날짜"
   ]
  },
  {
   "cell_type": "markdown",
   "metadata": {},
   "source": [
    "#### 사용자 추가"
   ]
  },
  {
   "cell_type": "code",
   "execution_count": 139,
   "metadata": {},
   "outputs": [
    {
     "data": {
      "text/plain": [
       "'Renata'"
      ]
     },
     "execution_count": 139,
     "metadata": {},
     "output_type": "execute_result"
    }
   ],
   "source": [
    "soup.find_all(\"span\", class_ = \"a-profile-name\")[-1].text"
   ]
  },
  {
   "cell_type": "markdown",
   "metadata": {},
   "source": [
    "#### 평점 가져오기"
   ]
  },
  {
   "cell_type": "code",
   "execution_count": 140,
   "metadata": {},
   "outputs": [
    {
     "name": "stdout",
     "output_type": "stream",
     "text": [
      "10\n"
     ]
    },
    {
     "data": {
      "text/plain": [
       "'5'"
      ]
     },
     "execution_count": 140,
     "metadata": {},
     "output_type": "execute_result"
    }
   ],
   "source": [
    "all_r = soup.find_all(\"div\", class_=\"a-section celwidget\")\n",
    "tmp = all_r[0].find(\"span\", class_=\"a-icon-alt\").text\n",
    "print(len(all_r) )\n",
    "rating = re.findall(\"\\d+\", tmp) # 숫자인 부분만 뽑겠다!\n",
    "rating[0]"
   ]
  },
  {
   "cell_type": "markdown",
   "metadata": {},
   "source": [
    "#### 날짜"
   ]
  },
  {
   "cell_type": "code",
   "execution_count": 141,
   "metadata": {},
   "outputs": [
    {
     "data": {
      "text/plain": [
       "'September 7, 2020'"
      ]
     },
     "execution_count": 141,
     "metadata": {},
     "output_type": "execute_result"
    }
   ],
   "source": [
    "tmp = all_r[0].find(\"span\", class_=\"a-size-base a-color-secondary review-date\").text\n",
    "texts = tmp.split(\"on\")\n",
    "texts[1].strip()"
   ]
  },
  {
   "cell_type": "markdown",
   "metadata": {},
   "source": [
    "#### (추가 실습) 지역 정보 추가, 몇 명에게 더 도움이 되었다."
   ]
  },
  {
   "cell_type": "code",
   "execution_count": 142,
   "metadata": {},
   "outputs": [],
   "source": [
    "# all_help=[]\n",
    "# for one in all_r:\n",
    "#     try:\n",
    "#         help_one=one.find('span',class_='a-size-base a-color-tertiary cr-vote-text').text\n",
    "#     except:\n",
    "#         help_one='0'\n",
    "#     all_help.append(help_one)\n",
    "    \n",
    "# print(all_help)"
   ]
  },
  {
   "cell_type": "markdown",
   "metadata": {},
   "source": [
    "#### 한 페이지의 정보 가져오기"
   ]
  },
  {
   "cell_type": "code",
   "execution_count": 143,
   "metadata": {},
   "outputs": [
    {
     "name": "stdout",
     "output_type": "stream",
     "text": [
      "['Amazon Customer', 'Noha Anous', '2B4Elise', 'Amazon Customer', 'R. P.', 'Sparky127', 'Amazon Customer', 'CK', 'Anne', 'Renata']\n",
      "['5', '4', '2', '5', '5', '4', '5', '5', '5', '3']\n",
      "['September 7, 2020', 'February 8, 2021', 'March 12, 2020', 'September 25, 2016', 'July 23, 2018', 'March 16, 2012', 'December 18, 2019', 'August 10, 2016', 'December 31, 2020', 'January 14, 2021']\n"
     ]
    }
   ],
   "source": [
    "all_r = soup.find_all(\"div\", class_=\"a-section celwidget\")\n",
    "\n",
    "all_user = [] # 사용자\n",
    "all_ratings = [] # 평점\n",
    "all_dates = [] # 날짜\n",
    "\n",
    "for one in all_r:\n",
    "    user_one = one.find(\"span\", class_=\"a-profile-name\").text\n",
    "    all_user.append(user_one)   # 사용자 추가\n",
    "    \n",
    "    rating_one = one.find(\"span\", class_=\"a-icon-alt\").text\n",
    "    nums = re.findall(\"\\d+\", rating_one)[0]\n",
    "    all_ratings.append(nums)   # 평점 추가\n",
    "    \n",
    "    date_one = one.find(\"span\", class_=\"a-size-base a-color-secondary review-date\")\n",
    "    texts = date_one.text.split(\"on\")\n",
    "    data = texts[1].strip()\n",
    "    all_dates.append(data)\n",
    "    \n",
    "    \n",
    "print(all_user)\n",
    "print(all_ratings)\n",
    "print(all_dates)"
   ]
  },
  {
   "cell_type": "code",
   "execution_count": 144,
   "metadata": {},
   "outputs": [
    {
     "name": "stdout",
     "output_type": "stream",
     "text": [
      "user :  Renata rating : 3\n",
      "review :  Unlike the other books in the series, this book doesn’t flow as well because there’s not enough words in the pages. My son asked for it and I figured I’d buy it since I liked the others in the series and this one was on sale... wish I hadn’t, but my son likes it so I can’t return. On the plus side, he memorized it already and reads it to himself now :)\n",
      "\n",
      "\n",
      "user :  Renata rating : 3\n",
      "review :  Unlike the other books in the series, this book doesn’t flow as well because there’s not enough words in the pages. My son asked for it and I figured I’d buy it since I liked the others in the series and this one was on sale... wish I hadn’t, but my son likes it so I can’t return. On the plus side, he memorized it already and reads it to himself now :)\n",
      "\n",
      "\n",
      "user :  Becky rating : 5\n",
      "review :  Unlike the other books in the series, this book doesn’t flow as well because there’s not enough words in the pages. My son asked for it and I figured I’d buy it since I liked the others in the series and this one was on sale... wish I hadn’t, but my son likes it so I can’t return. On the plus side, he memorized it already and reads it to himself now :)\n",
      "\n",
      "\n",
      "user :  MTUCK rating : 5\n",
      "review :  Unlike the other books in the series, this book doesn’t flow as well because there’s not enough words in the pages. My son asked for it and I figured I’d buy it since I liked the others in the series and this one was on sale... wish I hadn’t, but my son likes it so I can’t return. On the plus side, he memorized it already and reads it to himself now :)\n",
      "\n",
      "\n",
      "user :  Charles rating : 5\n",
      "review :  Unlike the other books in the series, this book doesn’t flow as well because there’s not enough words in the pages. My son asked for it and I figured I’d buy it since I liked the others in the series and this one was on sale... wish I hadn’t, but my son likes it so I can’t return. On the plus side, he memorized it already and reads it to himself now :)\n",
      "\n",
      "\n"
     ]
    }
   ],
   "source": [
    "all_user = []    # 사용자\n",
    "all_ratings = [] # 평점\n",
    "all_dates = []   # 날짜\n",
    "all_reviews = [] # 리뷰\n",
    "for page in range(2, 7, 1):\n",
    "    page = driver.page_source\n",
    "    soup = BeautifulSoup(page, 'html.parser')\n",
    "    all_r = soup.find_all(\"div\", class_=\"a-section celwidget\")\n",
    "    for one in all_r:\n",
    "        user_one = one.find(\"span\", class_=\"a-profile-name\").text\n",
    "        all_user.append(user_one)  # 사용자 추가\n",
    "        rating_one = one.find(\"span\", class_=\"a-icon-alt\").text\n",
    "        nums = re.findall(\"\\d+\", rating_one)[0]\n",
    "        all_ratings.append(nums)   # 평점 추가\n",
    "        # 날짜\n",
    "        date_one = one.find(\"span\", class_=\"a-size-base a-color-secondary review-date\")\n",
    "        texts = date_one.text.split(\"on\")\n",
    "        data = texts[1].strip()\n",
    "        all_dates.append(data)\n",
    "        # 리뷰 추가\n",
    "        review_one = one.find(\"span\",class_=\"a-size-base review-text review-text-content\")\n",
    "        tmp = review_one.text\n",
    "        review = tmp.strip()\n",
    "        all_reviews.append(review)\n",
    "    # 확인\n",
    "    print(\"user : \" , all_user[-1], \"rating :\", all_ratings[-1])\n",
    "    print(\"review : \", all_review[-1], end=\"\\n\\n\\n\")\n",
    "    # 다음 페이지 클릭\n",
    "    sel_next = driver.find_element_by_xpath('//*[@id=\"cm_cr-pagination_bar\"]/ul/li[2]/a')\n",
    "    sel_next.click()"
   ]
  }
 ],
 "metadata": {
  "kernelspec": {
   "display_name": "Python 3",
   "language": "python",
   "name": "python3"
  },
  "language_info": {
   "codemirror_mode": {
    "name": "ipython",
    "version": 3
   },
   "file_extension": ".py",
   "mimetype": "text/x-python",
   "name": "python",
   "nbconvert_exporter": "python",
   "pygments_lexer": "ipython3",
   "version": "3.8.5"
  }
 },
 "nbformat": 4,
 "nbformat_minor": 4
}
