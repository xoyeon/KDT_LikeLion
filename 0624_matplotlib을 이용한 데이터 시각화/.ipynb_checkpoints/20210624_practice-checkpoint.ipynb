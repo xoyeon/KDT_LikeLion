{
 "cells": [
  {
   "cell_type": "code",
   "execution_count": 47,
   "metadata": {},
   "outputs": [],
   "source": [
    "import matplotlib.pyplot as plt\n",
    "import matplotlib\n",
    "import numpy as np"
   ]
  },
  {
   "cell_type": "markdown",
   "metadata": {},
   "source": [
    "### 실습 1-1\n",
    " * DataFrame를 하나 만들어보자.\n",
    " 5행, 열2-3개 만들기(데이터 입력해서 만들기 BS4이용 안함.)\n",
    " - 슬랙에 올린 데이터 입력 이용해도 가능. "
   ]
  },
  {
   "cell_type": "code",
   "execution_count": 48,
   "metadata": {},
   "outputs": [
    {
     "data": {
      "image/png": "[encoded data removed]",
      "text/plain": [
       "<Figure size 432x288 with 10 Axes>"
      ]
     },
     "metadata": {
      "needs_background": "light"
     },
     "output_type": "display_data"
    }
   ],
   "source": [
    "fig = plt.figure()\n",
    "\n",
    "x=range(0,100)\n",
    "y=[v*v for v in x]\n",
    "\n",
    "ax1 = fig.add_subplot(5,2,1).plot(x,y)\n",
    "ax2 = fig.add_subplot(5,2,2).bar(x,y)\n",
    "ax3 = fig.add_subplot(5,2,3).step(x,y)\n",
    "ax4 = fig.add_subplot(5,2,4).loglog(x,y)\n",
    "ax5 = fig.add_subplot(5,2,5).barh(x,y)\n",
    "ax6 = fig.add_subplot(5,2,6).stem(x,y)\n",
    "ax7 = fig.add_subplot(5,2,7).scatter(x,y)\n",
    "ax8 = fig.add_subplot(5,2,8).plot_date(x,y)\n",
    "ax9 = fig.add_subplot(5,2,9).fill_between(x,y)\n",
    "ax10 = fig.add_subplot(5,2,10).fill_betweenx(x,y)\n",
    "plt.show()"
   ]
  },
  {
   "cell_type": "code",
   "execution_count": 49,
   "metadata": {},
   "outputs": [
    {
     "name": "stdout",
     "output_type": "stream",
     "text": [
      "AxesSubplot(0.125,0.749828;0.227941x0.130172)\n",
      "AxesSubplot(0.398529,0.749828;0.227941x0.130172)\n",
      "AxesSubplot(0.672059,0.749828;0.227941x0.130172)\n",
      "AxesSubplot(0.125,0.593621;0.227941x0.130172)\n",
      "AxesSubplot(0.398529,0.593621;0.227941x0.130172)\n",
      "AxesSubplot(0.672059,0.593621;0.227941x0.130172)\n",
      "AxesSubplot(0.125,0.437414;0.227941x0.130172)\n",
      "AxesSubplot(0.398529,0.437414;0.227941x0.130172)\n",
      "AxesSubplot(0.672059,0.437414;0.227941x0.130172)\n",
      "AxesSubplot(0.125,0.281207;0.227941x0.130172)\n",
      "AxesSubplot(0.398529,0.281207;0.227941x0.130172)\n",
      "AxesSubplot(0.672059,0.281207;0.227941x0.130172)\n",
      "AxesSubplot(0.125,0.125;0.227941x0.130172)\n",
      "AxesSubplot(0.398529,0.125;0.227941x0.130172)\n",
      "AxesSubplot(0.672059,0.125;0.227941x0.130172)\n"
     ]
    },
    {
     "data": {
      "image/png": "[encoded data removed]",
      "text/plain": [
       "<Figure size 864x576 with 15 Axes>"
      ]
     },
     "metadata": {
      "needs_background": "light"
     },
     "output_type": "display_data"
    }
   ],
   "source": [
    "fig = plt.figure(figsize=(12,8))\n",
    "\n",
    "for i in range(1,16):\n",
    "    a = fig.add_subplot(5,3,i)\n",
    "    print(a)\n",
    "plt.show()"
   ]
  },
  {
   "cell_type": "markdown",
   "metadata": {},
   "source": [
    "### 실습 1-2\n",
    " * DataFrame를 동일한 데이터로 만들며 index를 날짜로 넣어 보자."
   ]
  },
  {
   "cell_type": "code",
   "execution_count": 50,
   "metadata": {},
   "outputs": [
    {
     "data": {
      "text/html": [
       "<div>\n",
       "<style scoped>\n",
       "    .dataframe tbody tr th:only-of-type {\n",
       "        vertical-align: middle;\n",
       "    }\n",
       "\n",
       "    .dataframe tbody tr th {\n",
       "        vertical-align: top;\n",
       "    }\n",
       "\n",
       "    .dataframe thead th {\n",
       "        text-align: right;\n",
       "    }\n",
       "</style>\n",
       "<table border=\"1\" class=\"dataframe\">\n",
       "  <thead>\n",
       "    <tr style=\"text-align: right;\">\n",
       "      <th></th>\n",
       "      <th>순위</th>\n",
       "      <th>연속</th>\n",
       "      <th>누적</th>\n",
       "      <th>종목명</th>\n",
       "      <th>현재가</th>\n",
       "      <th>전일비</th>\n",
       "      <th>등락률</th>\n",
       "      <th>거래량</th>\n",
       "    </tr>\n",
       "  </thead>\n",
       "  <tbody>\n",
       "    <tr>\n",
       "      <th>0</th>\n",
       "      <td>1</td>\n",
       "      <td>2</td>\n",
       "      <td>2</td>\n",
       "      <td>솔고바이오</td>\n",
       "      <td>933</td>\n",
       "      <td>229</td>\n",
       "      <td>29.97</td>\n",
       "      <td>4657527</td>\n",
       "    </tr>\n",
       "    <tr>\n",
       "      <th>1</th>\n",
       "      <td>2</td>\n",
       "      <td>1</td>\n",
       "      <td>3</td>\n",
       "      <td>한세엠케이</td>\n",
       "      <td>9490</td>\n",
       "      <td>2190</td>\n",
       "      <td>30.00</td>\n",
       "      <td>19568672</td>\n",
       "    </tr>\n",
       "    <tr>\n",
       "      <th>2</th>\n",
       "      <td>3</td>\n",
       "      <td>1</td>\n",
       "      <td>2</td>\n",
       "      <td>네오오토</td>\n",
       "      <td>9990</td>\n",
       "      <td>2300</td>\n",
       "      <td>29.91</td>\n",
       "      <td>3157505</td>\n",
       "    </tr>\n",
       "    <tr>\n",
       "      <th>3</th>\n",
       "      <td>4</td>\n",
       "      <td>1</td>\n",
       "      <td>4</td>\n",
       "      <td>엄지하우스</td>\n",
       "      <td>4885</td>\n",
       "      <td>635</td>\n",
       "      <td>14.94</td>\n",
       "      <td>7231</td>\n",
       "    </tr>\n",
       "  </tbody>\n",
       "</table>\n",
       "</div>"
      ],
      "text/plain": [
       "   순위  연속  누적    종목명   현재가   전일비    등락률       거래량\n",
       "0   1   2   2  솔고바이오   933   229  29.97   4657527\n",
       "1   2   1   3  한세엠케이  9490  2190  30.00  19568672\n",
       "2   3   1   2   네오오토  9990  2300  29.91   3157505\n",
       "3   4   1   4  엄지하우스  4885   635  14.94      7231"
      ]
     },
     "execution_count": 50,
     "metadata": {},
     "output_type": "execute_result"
    }
   ],
   "source": [
    "import pandas as pd\n",
    "dat = { \"순위\":[1,2,3,4],\n",
    "        \"연속\":[2,1,1,1],\n",
    "        \"누적\":[2,3,2,4],\n",
    "        \"종목명\":[\"솔고바이오\", \"한세엠케이\", \"네오오토\", \"엄지하우스\"],\n",
    "        \"현재가\":[933,9490, 9990, 4885],\n",
    "        \"전일비\":[229, 2190, 2300, 635],\n",
    "        \"등락률\":[29.97, 30.00, 29.91, 14.94],\n",
    "        \"거래량\":[4657527, 19568672, 3157505, 7231]}\n",
    "dat_df = pd.DataFrame(dat)\n",
    "dat_df"
   ]
  },
  {
   "cell_type": "code",
   "execution_count": 51,
   "metadata": {},
   "outputs": [
    {
     "data": {
      "text/html": [
       "<div>\n",
       "<style scoped>\n",
       "    .dataframe tbody tr th:only-of-type {\n",
       "        vertical-align: middle;\n",
       "    }\n",
       "\n",
       "    .dataframe tbody tr th {\n",
       "        vertical-align: top;\n",
       "    }\n",
       "\n",
       "    .dataframe thead th {\n",
       "        text-align: right;\n",
       "    }\n",
       "</style>\n",
       "<table border=\"1\" class=\"dataframe\">\n",
       "  <thead>\n",
       "    <tr style=\"text-align: right;\">\n",
       "      <th></th>\n",
       "      <th>순위</th>\n",
       "      <th>연속</th>\n",
       "      <th>누적</th>\n",
       "      <th>종목명</th>\n",
       "      <th>현재가</th>\n",
       "      <th>전일비</th>\n",
       "      <th>등락률</th>\n",
       "      <th>거래량</th>\n",
       "    </tr>\n",
       "  </thead>\n",
       "  <tbody>\n",
       "    <tr>\n",
       "      <th>2021-06-21</th>\n",
       "      <td>1</td>\n",
       "      <td>2</td>\n",
       "      <td>2</td>\n",
       "      <td>솔고바이오</td>\n",
       "      <td>933</td>\n",
       "      <td>229</td>\n",
       "      <td>29.97</td>\n",
       "      <td>4657527</td>\n",
       "    </tr>\n",
       "    <tr>\n",
       "      <th>2021-06-22</th>\n",
       "      <td>2</td>\n",
       "      <td>1</td>\n",
       "      <td>3</td>\n",
       "      <td>한세엠케이</td>\n",
       "      <td>9490</td>\n",
       "      <td>2190</td>\n",
       "      <td>30.00</td>\n",
       "      <td>19568672</td>\n",
       "    </tr>\n",
       "    <tr>\n",
       "      <th>2021-06-23</th>\n",
       "      <td>3</td>\n",
       "      <td>1</td>\n",
       "      <td>2</td>\n",
       "      <td>네오오토</td>\n",
       "      <td>9990</td>\n",
       "      <td>2300</td>\n",
       "      <td>29.91</td>\n",
       "      <td>3157505</td>\n",
       "    </tr>\n",
       "    <tr>\n",
       "      <th>2021-06-24</th>\n",
       "      <td>4</td>\n",
       "      <td>1</td>\n",
       "      <td>4</td>\n",
       "      <td>엄지하우스</td>\n",
       "      <td>4885</td>\n",
       "      <td>635</td>\n",
       "      <td>14.94</td>\n",
       "      <td>7231</td>\n",
       "    </tr>\n",
       "  </tbody>\n",
       "</table>\n",
       "</div>"
      ],
      "text/plain": [
       "            순위  연속  누적    종목명   현재가   전일비    등락률       거래량\n",
       "2021-06-21   1   2   2  솔고바이오   933   229  29.97   4657527\n",
       "2021-06-22   2   1   3  한세엠케이  9490  2190  30.00  19568672\n",
       "2021-06-23   3   1   2   네오오토  9990  2300  29.91   3157505\n",
       "2021-06-24   4   1   4  엄지하우스  4885   635  14.94      7231"
      ]
     },
     "execution_count": 51,
     "metadata": {},
     "output_type": "execute_result"
    }
   ],
   "source": [
    "from pandas import DataFrame\n",
    "\n",
    "idx = pd.date_range(start=\"2021-06-21\", end=\"2021-06-24\")\n",
    "\n",
    "dat_df = pd.DataFrame(data = dat, index =idx)\n",
    "dat_df"
   ]
  },
  {
   "cell_type": "markdown",
   "metadata": {},
   "source": [
    "### 실습 1-3 행 선택해 보기 (iloc이용)\n",
    " * 2-3행을 선택해 보자.\n",
    " * 4번째 행을 선택해 보자."
   ]
  },
  {
   "cell_type": "code",
   "execution_count": 63,
   "metadata": {},
   "outputs": [
    {
     "name": "stdout",
     "output_type": "stream",
     "text": [
      "            순위  연속  누적    종목명   현재가   전일비    등락률       거래량\n",
      "2021-06-22   2   1   3  한세엠케이  9490  2190  30.00  19568672\n",
      "2021-06-23   3   1   2   네오오토  9990  2300  29.91   3157505\n",
      "-------\n",
      "            순위  연속  누적    종목명   현재가  전일비    등락률   거래량\n",
      "2021-06-24   4   1   4  엄지하우스  4885  635  14.94  7231\n"
     ]
    }
   ],
   "source": [
    "print(dat_df.iloc[[1,2]])\n",
    "print(\"-------\")\n",
    "print(dat_df.iloc[[3]])"
   ]
  },
  {
   "cell_type": "markdown",
   "metadata": {},
   "source": [
    "### 실습 1-4 행 선택해 보기 (loc이용)\n",
    " * 2-3행을 선택해 보자.\n",
    " * 4번째 행을 선택해 보자."
   ]
  },
  {
   "cell_type": "code",
   "execution_count": 53,
   "metadata": {},
   "outputs": [
    {
     "name": "stdout",
     "output_type": "stream",
     "text": [
      "            순위  연속  누적    종목명   현재가   전일비    등락률       거래량\n",
      "2021-06-22   2   1   3  한세엠케이  9490  2190  30.00  19568672\n",
      "2021-06-23   3   1   2   네오오토  9990  2300  29.91   3157505\n",
      "-------\n",
      "            순위  연속  누적    종목명   현재가  전일비    등락률   거래량\n",
      "2021-06-24   4   1   4  엄지하우스  4885  635  14.94  7231\n"
     ]
    }
   ],
   "source": [
    "print(dat_df.loc[['2021-06-22','2021-06-23']])\n",
    "print(\"-------\")\n",
    "print(dat_df.loc[['2021-06-24']])"
   ]
  },
  {
   "cell_type": "markdown",
   "metadata": {},
   "source": [
    "### 실습 1-5 행열 선택해 보기 (loc이용)\n",
    " * 2행 2열부터 3행 3열까지 선택해 보자."
   ]
  },
  {
   "cell_type": "code",
   "execution_count": 59,
   "metadata": {},
   "outputs": [
    {
     "name": "stdout",
     "output_type": "stream",
     "text": [
      "            연속  누적\n",
      "2021-06-22   1   3\n",
      "2021-06-23   1   2\n"
     ]
    }
   ],
   "source": [
    "print(dat_df.loc['2021-06-22':'2021-06-23','연속':'누적'])"
   ]
  }
 ],
 "metadata": {
  "kernelspec": {
   "display_name": "Python 3",
   "language": "python",
   "name": "python3"
  },
  "language_info": {
   "codemirror_mode": {
    "name": "ipython",
    "version": 3
   },
   "file_extension": ".py",
   "mimetype": "text/x-python",
   "name": "python",
   "nbconvert_exporter": "python",
   "pygments_lexer": "ipython3",
   "version": "3.8.5"
  }
 },
 "nbformat": 4,
 "nbformat_minor": 4
}
