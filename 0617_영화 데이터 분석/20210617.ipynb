{
 "cells": [
  {
   "cell_type": "code",
   "execution_count": 8,
   "metadata": {},
   "outputs": [],
   "source": [
    "from urllib.request import urlopen\n",
    "from bs4 import BeautifulSoup"
   ]
  },
  {
   "cell_type": "code",
   "execution_count": 9,
   "metadata": {},
   "outputs": [],
   "source": [
    "url = \"https://finance.naver.com/sise/\""
   ]
  },
  {
   "cell_type": "code",
   "execution_count": 10,
   "metadata": {},
   "outputs": [],
   "source": [
    "page = urlopen(url)\n",
    "page\n",
    "soup = BeautifulSoup(page, \"html.parser\")"
   ]
  },
  {
   "cell_type": "code",
   "execution_count": 11,
   "metadata": {},
   "outputs": [
    {
     "name": "stdout",
     "output_type": "stream",
     "text": [
      "1,000.43\n",
      "3,254.79\n",
      "433.35\n"
     ]
    }
   ],
   "source": [
    "print( soup.find('span', id='KOSDAQ_now').text )  # 코스닥\n",
    "print( soup.find('span', id='KOSPI_now').text  )  # 코스닥\n",
    "print( soup.find('span', id='KPI200_now').text )  # 코스닥"
   ]
  },
  {
   "cell_type": "code",
   "execution_count": 12,
   "metadata": {},
   "outputs": [],
   "source": [
    "## 삼성전자 : 005930\n",
    "## 카카오   : 035720\n",
    "## 유한양행 : 000100"
   ]
  },
  {
   "cell_type": "code",
   "execution_count": 13,
   "metadata": {},
   "outputs": [],
   "source": [
    "my_stock = ['삼성전자', '카카오', '유한양행', 'NAVER']\n",
    "my_stock_code = ['005930','035720', '000100', '035420']"
   ]
  },
  {
   "cell_type": "code",
   "execution_count": 14,
   "metadata": {},
   "outputs": [
    {
     "data": {
      "text/plain": [
       "<title>유한양행 : 네이버 금융</title>"
      ]
     },
     "execution_count": 14,
     "metadata": {},
     "output_type": "execute_result"
    }
   ],
   "source": [
    "chk_url = 'https://finance.naver.com/item/main.nhn?code=000100'\n",
    "page = urlopen(chk_url)\n",
    "soup = BeautifulSoup(page, 'lxml')\n",
    "soup.title"
   ]
  },
  {
   "cell_type": "code",
   "execution_count": 15,
   "metadata": {},
   "outputs": [
    {
     "data": {
      "text/plain": [
       "'63,100'"
      ]
     },
     "execution_count": 15,
     "metadata": {},
     "output_type": "execute_result"
    }
   ],
   "source": [
    "soup.find(\"p\", class_='no_today').find(\"span\",class_=\"blind\").text"
   ]
  },
  {
   "cell_type": "code",
   "execution_count": 16,
   "metadata": {},
   "outputs": [
    {
     "data": {
      "text/plain": [
       "['\\n',\n",
       " <em class=\"no_down\">\n",
       " <span class=\"blind\">63,100</span>\n",
       " <span class=\"no6\">6</span><span class=\"no3\">3</span><span class=\"shim\">,</span><span class=\"no1\">1</span><span class=\"no0\">0</span><span class=\"no0\">0</span>\n",
       " </em>,\n",
       " '\\n']"
      ]
     },
     "execution_count": 16,
     "metadata": {},
     "output_type": "execute_result"
    }
   ],
   "source": [
    "list(soup.find(\"p\", class_='no_today').children)"
   ]
  },
  {
   "cell_type": "code",
   "execution_count": 25,
   "metadata": {},
   "outputs": [],
   "source": [
    "my_stock = ['삼성전자', '카카오', '유한양행', 'NAVER']\n",
    "my_stock_code = ['005930','035720', '000100', '035420']\n",
    "base_url = \"https://finance.naver.com/item/main.nhn?code=\""
   ]
  },
  {
   "cell_type": "code",
   "execution_count": 30,
   "metadata": {},
   "outputs": [
    {
     "name": "stdout",
     "output_type": "stream",
     "text": [
      "삼성전자 80,700\n",
      "카카오 144,000\n",
      "유한양행 63,000\n",
      "NAVER 389,000\n"
     ]
    }
   ],
   "source": [
    "for idx, code in enumerate(my_stock_code):   # enumerate 사용\n",
    "    all_url = base_url + code\n",
    "    page = urlopen(all_url)\n",
    "    soup = BeautifulSoup(page,'lxml')\n",
    "    \n",
    "    ## 현재가\n",
    "    tmp = soup.find(\"p\", class_=\"no_today\")\n",
    "    price = tmp.find(\"span\", class_=\"blind\").text\n",
    "    \n",
    "    print(my_stock[idx], price)"
   ]
  },
  {
   "cell_type": "markdown",
   "metadata": {},
   "source": [
    "## 2-3 [실습] 관심 있는 종목 5개 선정, 코드 확인. 현재가, 거래량"
   ]
  },
  {
   "cell_type": "code",
   "execution_count": 71,
   "metadata": {},
   "outputs": [],
   "source": [
    "my_stock = ['카카오게임즈', 'SM C&C', 'SK하이닉스', '세아베스틸', '삼성전자']\n",
    "my_stock_code = ['293490','048550', '000660', '001430', '005930']\n",
    "base_url = \"https://finance.naver.com/item/main.nhn?code=\""
   ]
  },
  {
   "cell_type": "code",
   "execution_count": 73,
   "metadata": {},
   "outputs": [
    {
     "name": "stdout",
     "output_type": "stream",
     "text": [
      "카카오게임즈 55,800 454,643\n",
      "SM C&C 3,190 2,448,394\n",
      "SK하이닉스 126,500 922,267\n",
      "세아베스틸 30,950 62,011\n",
      "삼성전자 80,800 6,183,785\n"
     ]
    }
   ],
   "source": [
    "for idx, code in enumerate(my_stock_code):   # enumerate 사용\n",
    "    all_url = base_url + code\n",
    "    page = urlopen(all_url)\n",
    "    soup = BeautifulSoup(page,'lxml')\n",
    "    \n",
    "    ## 현재가\n",
    "    price = soup.find(\"p\", class_=\"no_today\").find(\"span\", class_=\"blind\").text\n",
    "    \n",
    "    ## 거래량\n",
    "    stock = soup.find(\"span\", class_=\"sptxt sp_txt9\").find_next(\"span\", class_=\"blind\").text \n",
    "    \n",
    "    print(my_stock[idx], price, stock)"
   ]
  },
  {
   "cell_type": "markdown",
   "metadata": {},
   "source": [
    "## 2-3 [추가] 관심 있는 종목 5개 선정, 코드 확인 후, 내가 필요로 하는 정보 6개 가져오기 (Skip)"
   ]
  }
 ],
 "metadata": {
  "kernelspec": {
   "display_name": "Python 3",
   "language": "python",
   "name": "python3"
  },
  "language_info": {
   "codemirror_mode": {
    "name": "ipython",
    "version": 3
   },
   "file_extension": ".py",
   "mimetype": "text/x-python",
   "name": "python",
   "nbconvert_exporter": "python",
   "pygments_lexer": "ipython3",
   "version": "3.8.5"
  }
 },
 "nbformat": 4,
 "nbformat_minor": 4
}
