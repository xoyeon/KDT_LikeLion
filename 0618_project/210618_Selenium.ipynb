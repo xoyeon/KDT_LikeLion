{
 "cells": [
  {
   "cell_type": "code",
   "execution_count": 179,
   "metadata": {},
   "outputs": [
    {
     "data": {
      "text/plain": [
       "<selenium.webdriver.chrome.webdriver.WebDriver (session=\"3a3fd42d6195e3f7ea02202487f266a6\")>"
      ]
     },
     "execution_count": 179,
     "metadata": {},
     "output_type": "execute_result"
    }
   ],
   "source": [
    "from selenium import webdriver\n",
    "driver = webdriver.Chrome('chromedriver')\n",
    "driver"
   ]
  },
  {
   "cell_type": "code",
   "execution_count": 115,
   "metadata": {},
   "outputs": [],
   "source": [
    "### url (우리가 접근할 페이지 주소) : https://ldjwj.github.io/00_SBA01_BigData/05_HTML/idx_lec_list\n",
    "### 통계기본(xpath) : /html/body/div/div/div/div/div[9]/div[4]/a\n",
    "### [selenium 자료형, 객체].click() : 다른 페이지로 이동"
   ]
  },
  {
   "cell_type": "code",
   "execution_count": 116,
   "metadata": {},
   "outputs": [],
   "source": [
    "url = \"https://ldjwj.github.io/00_SBA01_BigData/05_HTML/idx_lec_list\"\n",
    "driver.get(url)"
   ]
  },
  {
   "cell_type": "markdown",
   "metadata": {},
   "source": [
    "### 내가 원하는 요소를 가지고 와서, 그 친구에 click()를 해보렴."
   ]
  },
  {
   "cell_type": "code",
   "execution_count": 117,
   "metadata": {},
   "outputs": [
    {
     "data": {
      "text/plain": [
       "<selenium.webdriver.remote.webelement.WebElement (session=\"1663b1fd60b613a8c12eba8cdc4ff5de\", element=\"f1476e1c-28ba-4829-9075-afa8b0b25527\")>"
      ]
     },
     "execution_count": 117,
     "metadata": {},
     "output_type": "execute_result"
    }
   ],
   "source": [
    "sel_link1 = driver.find_element_by_xpath('/html/body/div/div/div/div/div[9]/div[4]/a')\n",
    "sel_link1"
   ]
  },
  {
   "cell_type": "code",
   "execution_count": 118,
   "metadata": {},
   "outputs": [
    {
     "data": {
      "text/plain": [
       "'Link'"
      ]
     },
     "execution_count": 118,
     "metadata": {},
     "output_type": "execute_result"
    }
   ],
   "source": [
    "sel_link1.text"
   ]
  },
  {
   "cell_type": "code",
   "execution_count": 119,
   "metadata": {},
   "outputs": [
    {
     "data": {
      "text/plain": [
       "'a'"
      ]
     },
     "execution_count": 119,
     "metadata": {},
     "output_type": "execute_result"
    }
   ],
   "source": [
    "sel_link1.tag_name"
   ]
  },
  {
   "cell_type": "code",
   "execution_count": 120,
   "metadata": {},
   "outputs": [
    {
     "data": {
      "text/plain": [
       "<bound method WebElement.click of <selenium.webdriver.remote.webelement.WebElement (session=\"1663b1fd60b613a8c12eba8cdc4ff5de\", element=\"f1476e1c-28ba-4829-9075-afa8b0b25527\")>>"
      ]
     },
     "execution_count": 120,
     "metadata": {},
     "output_type": "execute_result"
    }
   ],
   "source": [
    "sel_link1.click"
   ]
  },
  {
   "cell_type": "code",
   "execution_count": 121,
   "metadata": {},
   "outputs": [
    {
     "data": {
      "text/plain": [
       "<selenium.webdriver.remote.webelement.WebElement (session=\"1663b1fd60b613a8c12eba8cdc4ff5de\", element=\"b1639513-a65c-4240-8b79-6593ac6a86ba\")>"
      ]
     },
     "execution_count": 121,
     "metadata": {},
     "output_type": "execute_result"
    }
   ],
   "source": [
    "# 번외1\n",
    "sal_link = driver.find_element_by_xpath('/html/body/div/div/div/div/div[4]/div[4]/a')\n",
    "sal_link"
   ]
  },
  {
   "cell_type": "code",
   "execution_count": 122,
   "metadata": {},
   "outputs": [
    {
     "data": {
      "text/plain": [
       "[<selenium.webdriver.remote.webelement.WebElement (session=\"1663b1fd60b613a8c12eba8cdc4ff5de\", element=\"f1476e1c-28ba-4829-9075-afa8b0b25527\")>]"
      ]
     },
     "execution_count": 122,
     "metadata": {},
     "output_type": "execute_result"
    }
   ],
   "source": [
    "# 번외2\n",
    "sal_link1 = driver.find_elements_by_xpath('/html/body/div/div/div/div/div[9]/div[4]/a')\n",
    "sal_link1"
   ]
  },
  {
   "cell_type": "code",
   "execution_count": 123,
   "metadata": {},
   "outputs": [
    {
     "data": {
      "text/plain": [
       "<selenium.webdriver.remote.webelement.WebElement (session=\"1663b1fd60b613a8c12eba8cdc4ff5de\", element=\"f1476e1c-28ba-4829-9075-afa8b0b25527\")>"
      ]
     },
     "execution_count": 123,
     "metadata": {},
     "output_type": "execute_result"
    }
   ],
   "source": [
    "sel_link2 = driver.find_element_by_xpath('/html/body/div/div/div/div/div[9]/div[4]/a')\n",
    "sel_link2"
   ]
  },
  {
   "cell_type": "code",
   "execution_count": 124,
   "metadata": {},
   "outputs": [
    {
     "data": {
      "text/plain": [
       "'Link'"
      ]
     },
     "execution_count": 124,
     "metadata": {},
     "output_type": "execute_result"
    }
   ],
   "source": [
    "sel_link2.text"
   ]
  },
  {
   "cell_type": "code",
   "execution_count": 125,
   "metadata": {},
   "outputs": [
    {
     "data": {
      "text/plain": [
       "'a'"
      ]
     },
     "execution_count": 125,
     "metadata": {},
     "output_type": "execute_result"
    }
   ],
   "source": [
    "sel_link2.tag_name"
   ]
  },
  {
   "cell_type": "code",
   "execution_count": 126,
   "metadata": {},
   "outputs": [
    {
     "data": {
      "text/plain": [
       "<bound method WebElement.click of <selenium.webdriver.remote.webelement.WebElement (session=\"1663b1fd60b613a8c12eba8cdc4ff5de\", element=\"f1476e1c-28ba-4829-9075-afa8b0b25527\")>>"
      ]
     },
     "execution_count": 126,
     "metadata": {},
     "output_type": "execute_result"
    }
   ],
   "source": [
    "sel_link2.click"
   ]
  },
  {
   "cell_type": "markdown",
   "metadata": {},
   "source": [
    "## 연습"
   ]
  },
  {
   "cell_type": "code",
   "execution_count": 127,
   "metadata": {},
   "outputs": [],
   "source": [
    "url = 'https://pythonstart.github.io/web/'\n",
    "driver.get(url)"
   ]
  },
  {
   "cell_type": "code",
   "execution_count": 128,
   "metadata": {},
   "outputs": [
    {
     "name": "stdout",
     "output_type": "stream",
     "text": [
      "10. 랭킹 정보 가져오기(웹 크롤링)\n",
      "a\n"
     ]
    }
   ],
   "source": [
    "sel_id = driver.find_element_by_id(\"rank\")\n",
    "print(sel_id.text)\n",
    "print(sel_id.tag_name)"
   ]
  },
  {
   "cell_type": "markdown",
   "metadata": {},
   "source": [
    "## 태그이름으로 가져오기"
   ]
  },
  {
   "cell_type": "code",
   "execution_count": 129,
   "metadata": {
    "collapsed": true
   },
   "outputs": [
    {
     "name": "stdout",
     "output_type": "stream",
     "text": [
      "a 01. 제목 가져오기(title)\n",
      "a 02. 텍스트 가져오기(p)\n",
      "a 03. 링크 가져오기(a)\n",
      "a 04. 이미지 정보 가져오기(img)\n",
      "a 05. 리스트 정보 가져오기(ul,ol)\n",
      "a 06. id를 활용한 정보 획득\n",
      "a 07. class를 활용한 정보 획득\n",
      "a 08. 하나의 이미지 다운로드\n",
      "a 09. 여러개의 이미지 다운로드\n",
      "a 10. 랭킹 정보 가져오기(웹 크롤링)\n"
     ]
    }
   ],
   "source": [
    "sel_a_all = driver.find_elements_by_tag_name(\"a\")\n",
    "\n",
    "for one in sel_a_all:\n",
    "    print(one.tag_name, one.text)"
   ]
  },
  {
   "cell_type": "markdown",
   "metadata": {},
   "source": [
    "### link_text로 가져오기"
   ]
  },
  {
   "cell_type": "code",
   "execution_count": 130,
   "metadata": {},
   "outputs": [
    {
     "name": "stdout",
     "output_type": "stream",
     "text": [
      "a 01. 제목 가져오기(title)\n"
     ]
    }
   ],
   "source": [
    "sel_link = driver.find_element_by_link_text(\"01. 제목 가져오기(title)\")\n",
    "print(sel_link. tag_name, sel_link.text)"
   ]
  },
  {
   "cell_type": "markdown",
   "metadata": {},
   "source": [
    "### name 속성으로 가져오기"
   ]
  },
  {
   "cell_type": "code",
   "execution_count": 131,
   "metadata": {},
   "outputs": [
    {
     "name": "stdout",
     "output_type": "stream",
     "text": [
      "a 01. 제목 가져오기(title)\n",
      "a 03. 링크 가져오기(a)\n"
     ]
    }
   ],
   "source": [
    "sel_names = driver.find_elements_by_name(\"link_get\")\n",
    "\n",
    "for i in sel_names:\n",
    "    print(i.tag_name, i.text)"
   ]
  },
  {
   "cell_type": "markdown",
   "metadata": {},
   "source": [
    "### selector를 이용한 접근"
   ]
  },
  {
   "cell_type": "code",
   "execution_count": 132,
   "metadata": {
    "collapsed": true
   },
   "outputs": [
    {
     "name": "stdout",
     "output_type": "stream",
     "text": [
      "a 01. 제목 가져오기(title)\n",
      "a 02. 텍스트 가져오기(p)\n",
      "a 03. 링크 가져오기(a)\n",
      "a 04. 이미지 정보 가져오기(img)\n",
      "a 05. 리스트 정보 가져오기(ul,ol)\n",
      "a 06. id를 활용한 정보 획득\n",
      "a 07. class를 활용한 정보 획득\n",
      "a 08. 하나의 이미지 다운로드\n",
      "a 09. 여러개의 이미지 다운로드\n",
      "a 10. 랭킹 정보 가져오기(웹 크롤링)\n"
     ]
    }
   ],
   "source": [
    "sel_css = driver.find_elements_by_css_selector(\"body ul a\")\n",
    "\n",
    "for one in sel_css:\n",
    "    print(one.tag_name, one.text)"
   ]
  },
  {
   "cell_type": "markdown",
   "metadata": {},
   "source": [
    "### 링크의 내용 일부 내용으로 가져오기"
   ]
  },
  {
   "cell_type": "code",
   "execution_count": 133,
   "metadata": {
    "collapsed": true
   },
   "outputs": [
    {
     "name": "stdout",
     "output_type": "stream",
     "text": [
      "a 01. 제목 가져오기(title)\n",
      "a 02. 텍스트 가져오기(p)\n",
      "a 03. 링크 가져오기(a)\n",
      "a 04. 이미지 정보 가져오기(img)\n",
      "a 05. 리스트 정보 가져오기(ul,ol)\n",
      "a 10. 랭킹 정보 가져오기(웹 크롤링)\n"
     ]
    }
   ],
   "source": [
    "sel_p_link = driver.find_elements_by_partial_link_text(\"가져오기\")\n",
    "\n",
    "for one in sel_p_link:\n",
    "    print(one.tag_name, one.text)"
   ]
  },
  {
   "cell_type": "markdown",
   "metadata": {},
   "source": [
    "# 5-3 실습\n",
    "* 5-3 실습 - 아래 링크의 Content 내용을 가져와 보자."
   ]
  },
  {
   "cell_type": "code",
   "execution_count": 134,
   "metadata": {},
   "outputs": [],
   "source": [
    "url = \"https://ldjwj.github.io/00_SBA01_BigData/05_HTML/idx_lec_list\"\n",
    "driver.get(url)"
   ]
  },
  {
   "cell_type": "code",
   "execution_count": 135,
   "metadata": {},
   "outputs": [],
   "source": [
    "# /html/body/div/div/div/div/div[2]/div[3]\n",
    "# /html/body/div/div/div/div/div[3]/div[3]\n",
    "# /html/body/div/div/div/div/div[4]/div[3]\n",
    "# ...\n",
    "# /html/body/div/div/div/div/div[29]/div[3]"
   ]
  },
  {
   "cell_type": "code",
   "execution_count": 136,
   "metadata": {
    "collapsed": true
   },
   "outputs": [
    {
     "name": "stdout",
     "output_type": "stream",
     "text": [
      "div Category LectureCode Content Link\n",
      "div R 기본 및 R 기본 활용(전수업 내용) STAT_BASIC_00 R 기본 전체(전 수업 링크) Link\n",
      "div 통계기본 STAT_BASIC_01 통계기본이해하기(1) Link\n",
      "div 통계기본 STAT_BASIC_02 가설검정이해(1) Link\n",
      "div 통계기본 STAT_LAB_01 통계기본이해_실습(1)-통계가설검정 Link\n",
      "div 통계기본 STAT_LAB_01 통계기본이해_실습(1)-통계가설검정 Link\n",
      "div 통계기본 STAT_BASIC_03 회귀분석이해(1) Link\n",
      "div 통계기본 STAT_LAB_02 첫번째 모델 만들기 Link\n",
      "div 통계기본 STAT_LAB_03 회귀 모델 실습(1)-mtcars Link\n",
      "div 통계기본 STAT_LAB_04 회귀 모델 실습(2)-Boston 집값 예측 Link\n",
      "div 통계기본 STAT_LAB_05 회귀 모델 실습(3) - 캐글 데이터-집값 예측 Link\n",
      "div 통계기본 STAT_LAB_06 로지스틱 회귀 모델 실습(1) - 인디언 암 예측 Link\n",
      "div 통계기본 STAT_BASIC_04 의사결정트리 기본 이해(1) Link\n",
      "div 통계기본 STAT_LAB_07 의사결정트리 실습(1) Link\n",
      "div 통계기본 STAT_LAB_08 의사결정트리 실습(2) Link\n",
      "div 통계기본 STAT_LAB_EDA_01 데이터 탐색 - Boston 집값 Link\n",
      "div R_LevelUp R_TM_01 텍스트 마이닝 시작하기 Link\n",
      "div R_LevelUp R_TM_LAB_01 KoNLP를 패키지를 활용한 텍스트 분석(1) Link\n",
      "div R_LevelUp R_TM_LAB_02 텍스트 감정 분석(1) Link\n",
      "div R_LevelUp R_TM_LAB_03 TFIDF 이해하기(1) Link\n",
      "div R_LevelUp R_MYSQL_LAB_01 R과 MySQL 연동 환경 만들기 Link\n",
      "div R_LevelUp R_MYSQL_LAB_02 R과 MySQL 연동 실습하기 Link\n",
      "div R_LevelUp R_DATAVIS_LAB_01 데이터 시각화 기본(1) Link\n",
      "div R_LevelUp R_DATAVIS_LAB_02 데이터 시각화 기본(2) Link\n",
      "div R_LevelUp R_DATAVIS_LAB_03 데이터 시각화 기본(3) Link\n",
      "div R_LevelUp R_DATAVIS_LAB_04 데이터 시각화 기본(4) Link\n",
      "div R_LevelUp R_DATAVIS_LAB_05 데이터 시각화 활용(5) Link\n",
      "div R_LevelUp R_DATAVIS_LAB_06 데이터 시각화 참고자료(1) Link\n",
      "div R_LevelUp R_DATAVIS_LAB_07 데이터 시각화 참고자료(2) Link\n"
     ]
    }
   ],
   "source": [
    "sel_class = driver.find_elements_by_class_name(\"row\")\n",
    "\n",
    "for one in sel_class:\n",
    "    print(one.tag_name, one.text)"
   ]
  },
  {
   "cell_type": "code",
   "execution_count": 137,
   "metadata": {
    "collapsed": true
   },
   "outputs": [
    {
     "name": "stdout",
     "output_type": "stream",
     "text": [
      "Content\n",
      "R 기본 전체(전 수업 링크)\n",
      "통계기본이해하기(1)\n",
      "가설검정이해(1)\n",
      "통계기본이해_실습(1)-통계가설검정\n",
      "통계기본이해_실습(1)-통계가설검정\n",
      "회귀분석이해(1)\n",
      "첫번째 모델 만들기\n",
      "회귀 모델 실습(1)-mtcars\n",
      "회귀 모델 실습(2)-Boston 집값 예측\n",
      "회귀 모델 실습(3) - 캐글 데이터-집값 예측\n",
      "로지스틱 회귀 모델 실습(1) - 인디언 암 예측\n",
      "의사결정트리 기본 이해(1)\n",
      "의사결정트리 실습(1)\n",
      "의사결정트리 실습(2)\n",
      "데이터 탐색 - Boston 집값\n",
      "텍스트 마이닝 시작하기\n",
      "KoNLP를 패키지를 활용한 텍스트 분석(1)\n",
      "텍스트 감정 분석(1)\n",
      "TFIDF 이해하기(1)\n",
      "R과 MySQL 연동 환경 만들기\n",
      "R과 MySQL 연동 실습하기\n",
      "데이터 시각화 기본(1)\n",
      "데이터 시각화 기본(2)\n",
      "데이터 시각화 기본(3)\n",
      "데이터 시각화 기본(4)\n",
      "데이터 시각화 활용(5)\n",
      "데이터 시각화 참고자료(1)\n",
      "데이터 시각화 참고자료(2)\n"
     ]
    }
   ],
   "source": [
    "sel_link5 = driver.find_elements_by_xpath('/html/body/div/div/div/div/div/div[3]')\n",
    "for i in sel_link5:\n",
    "    print(i.text)"
   ]
  },
  {
   "cell_type": "code",
   "execution_count": 138,
   "metadata": {
    "collapsed": true
   },
   "outputs": [
    {
     "name": "stdout",
     "output_type": "stream",
     "text": [
      "R 기본 전체(전 수업 링크)\n",
      "통계기본이해하기(1)\n",
      "가설검정이해(1)\n",
      "통계기본이해_실습(1)-통계가설검정\n",
      "통계기본이해_실습(1)-통계가설검정\n",
      "회귀분석이해(1)\n",
      "첫번째 모델 만들기\n",
      "회귀 모델 실습(1)-mtcars\n",
      "회귀 모델 실습(2)-Boston 집값 예측\n",
      "회귀 모델 실습(3) - 캐글 데이터-집값 예측\n",
      "로지스틱 회귀 모델 실습(1) - 인디언 암 예측\n",
      "의사결정트리 기본 이해(1)\n",
      "의사결정트리 실습(1)\n",
      "의사결정트리 실습(2)\n",
      "데이터 탐색 - Boston 집값\n",
      "텍스트 마이닝 시작하기\n",
      "KoNLP를 패키지를 활용한 텍스트 분석(1)\n",
      "텍스트 감정 분석(1)\n",
      "TFIDF 이해하기(1)\n",
      "R과 MySQL 연동 환경 만들기\n",
      "R과 MySQL 연동 실습하기\n",
      "데이터 시각화 기본(1)\n",
      "데이터 시각화 기본(2)\n",
      "데이터 시각화 기본(3)\n",
      "데이터 시각화 기본(4)\n",
      "데이터 시각화 활용(5)\n",
      "데이터 시각화 참고자료(1)\n",
      "데이터 시각화 참고자료(2)\n"
     ]
    }
   ],
   "source": [
    "contents = driver.find_elements_by_css_selector(\"div[data-title='Content']\")\n",
    "for content in contents:\n",
    "    print(content.text)"
   ]
  },
  {
   "cell_type": "code",
   "execution_count": 139,
   "metadata": {
    "collapsed": true
   },
   "outputs": [
    {
     "name": "stdout",
     "output_type": "stream",
     "text": [
      "div R 기본 전체(전 수업 링크)\n",
      "div 통계기본이해하기(1)\n",
      "div 가설검정이해(1)\n",
      "div 통계기본이해_실습(1)-통계가설검정\n",
      "div 통계기본이해_실습(1)-통계가설검정\n",
      "div 회귀분석이해(1)\n",
      "div 첫번째 모델 만들기\n",
      "div 회귀 모델 실습(1)-mtcars\n",
      "div 회귀 모델 실습(2)-Boston 집값 예측\n",
      "div 회귀 모델 실습(3) - 캐글 데이터-집값 예측\n",
      "div 로지스틱 회귀 모델 실습(1) - 인디언 암 예측\n",
      "div 의사결정트리 기본 이해(1)\n",
      "div 의사결정트리 실습(1)\n",
      "div 의사결정트리 실습(2)\n",
      "div 데이터 탐색 - Boston 집값\n",
      "div 텍스트 마이닝 시작하기\n",
      "div KoNLP를 패키지를 활용한 텍스트 분석(1)\n",
      "div 텍스트 감정 분석(1)\n",
      "div TFIDF 이해하기(1)\n",
      "div R과 MySQL 연동 환경 만들기\n",
      "div R과 MySQL 연동 실습하기\n",
      "div 데이터 시각화 기본(1)\n",
      "div 데이터 시각화 기본(2)\n",
      "div 데이터 시각화 기본(3)\n",
      "div 데이터 시각화 기본(4)\n",
      "div 데이터 시각화 활용(5)\n",
      "div 데이터 시각화 참고자료(1)\n",
      "div 데이터 시각화 참고자료(2)\n"
     ]
    }
   ],
   "source": [
    "sel_content = driver.find_elements_by_css_selector('body div div div div div div')\n",
    "for one in range(6, len(sel_content), 4):\n",
    "    print(sel_content[one].tag_name, sel_content[one].text)"
   ]
  },
  {
   "cell_type": "markdown",
   "metadata": {},
   "source": [
    "* 5-3 실습2 - 아래 링크의 Content내용과 Link의 URL을 가져와보자."
   ]
  },
  {
   "cell_type": "code",
   "execution_count": 140,
   "metadata": {
    "collapsed": true
   },
   "outputs": [
    {
     "name": "stdout",
     "output_type": "stream",
     "text": [
      "R 기본 전체(전 수업 링크) \n",
      " https://github.com/LDJWJ/RBasic/tree/master/01_RClass\n",
      "\n",
      "통계기본이해하기(1) \n",
      " https://ldjwj.github.io/00_SBA01_BigData/05_HTML/01_RClass/Stat01_01_Basic_Summary_v12.pdf\n",
      "\n",
      "가설검정이해(1) \n",
      " https://ldjwj.github.io/00_SBA01_BigData/05_HTML/01_RClass/Stat01_02_Hypo_v10.pdf\n",
      "\n",
      "통계기본이해_실습(1)-통계가설검정 \n",
      " https://ldjwj.github.io/00_SBA01_BigData/05_HTML/01_RClass/stat01_Lab02_ttest_v11.html\n",
      "\n",
      "통계기본이해_실습(1)-통계가설검정 \n",
      " https://ldjwj.github.io/00_SBA01_BigData/05_HTML/01_RClass/stat01_Lab02_v10.html\n",
      "\n",
      "회귀분석이해(1) \n",
      " https://ldjwj.github.io/00_SBA01_BigData/05_HTML/01_RClass/Stat02_Regression_v10.pdf\n",
      "\n",
      "첫번째 모델 만들기 \n",
      " https://ldjwj.github.io/00_SBA01_BigData/05_HTML/01_RClass/stat02_Lab01_lm_firstmodel.html\n",
      "\n",
      "회귀 모델 실습(1)-mtcars \n",
      " https://ldjwj.github.io/00_SBA01_BigData/05_HTML/01_RClass/stat02_Lab02_lm_mtcars.html\n",
      "\n",
      "회귀 모델 실습(2)-Boston 집값 예측 \n",
      " https://ldjwj.github.io/00_SBA01_BigData/05_HTML/01_RClass/stat02_Lab03_lm_housing.html\n",
      "\n",
      "회귀 모델 실습(3) - 캐글 데이터-집값 예측 \n",
      " https://ldjwj.github.io/00_SBA01_BigData/05_HTML/01_RClass/stat02_Lab04_lm_house_adv.html\n",
      "\n",
      "로지스틱 회귀 모델 실습(1) - 인디언 암 예측 \n",
      " https://ldjwj.github.io/00_SBA01_BigData/05_HTML/01_RClass/stat03_Lab05_logit_indian.html\n",
      "\n",
      "의사결정트리 기본 이해(1) \n",
      " https://ldjwj.github.io/00_SBA01_BigData/05_HTML/01_RClass/stat04_decisiontree_v11.pdf\n",
      "\n",
      "의사결정트리 실습(1) \n",
      " https://ldjwj.github.io/00_SBA01_BigData/05_HTML/01_RClass/stat04_Lab01_tree_titanic.html\n",
      "\n",
      "의사결정트리 실습(2) \n",
      " https://ldjwj.github.io/00_SBA01_BigData/05_HTML/01_RClass/stat04_Lab02_tree_titanic.html\n",
      "\n",
      "데이터 탐색 - Boston 집값 \n",
      " https://ldjwj.github.io/00_SBA01_BigData/05_HTML/01_RClass/stat02_Lab03_eda_housing.html\n",
      "\n",
      "텍스트 마이닝 시작하기 \n",
      " https://ldjwj.github.io/00_SBA01_BigData/05_HTML/01_RClass/R_LV_Up08_TextMining.html\n",
      "\n",
      "KoNLP를 패키지를 활용한 텍스트 분석(1) \n",
      " https://ldjwj.github.io/00_SBA01_BigData/05_HTML/01_RClass/TM_Lab01_KoNLP.html\n",
      "\n",
      "텍스트 감정 분석(1) \n",
      " https://ldjwj.github.io/00_SBA01_BigData/05_HTML/01_RClass/TM_LAB06_sentiment.html\n",
      "\n",
      "TFIDF 이해하기(1) \n",
      " https://ldjwj.github.io/00_SBA01_BigData/05_HTML/01_RClass/TM_Lab02_tfidf01.html\n",
      "\n",
      "R과 MySQL 연동 환경 만들기 \n",
      " https://ldjwj.github.io/00_SBA01_BigData/05_HTML/01_RClass/R_MYSQL_01_1909.pdf\n",
      "\n",
      "R과 MySQL 연동 실습하기 \n",
      " https://ldjwj.github.io/00_SBA01_BigData/05_HTML/01_RClass/R_LV_Up_MySQL01.html\n",
      "\n",
      "데이터 시각화 기본(1) \n",
      " https://ldjwj.github.io/00_SBA01_BigData/05_HTML/01_RClass/B01_dataVis0418.pdf\n",
      "\n",
      "데이터 시각화 기본(2) \n",
      " https://ldjwj.github.io/00_SBA01_BigData/05_HTML/01_RClass/B01_plot_basic.pdf\n",
      "\n",
      "데이터 시각화 기본(3) \n",
      " https://ldjwj.github.io/00_SBA01_BigData/05_HTML/01_RClass/B02_ggplot2_jitter.pdf\n",
      "\n",
      "데이터 시각화 기본(4) \n",
      " https://ldjwj.github.io/00_SBA01_BigData/05_HTML/01_RClass/B03_ggplot2_custom.pdf\n",
      "\n",
      "데이터 시각화 활용(5) \n",
      " https://ldjwj.github.io/00_SBA01_BigData/05_HTML/01_RClass/DataVis_R_Lab07_networkAna01.r\n",
      "\n",
      "데이터 시각화 참고자료(1) \n",
      " https://ldjwj.github.io/00_SBA01_BigData/05_HTML/01_RClass/G01_Graph_0601.r\n",
      "\n",
      "데이터 시각화 참고자료(2) \n",
      " https://ldjwj.github.io/00_SBA01_BigData/05_HTML/01_RClass/G02_Graph_0601.r\n",
      "\n"
     ]
    }
   ],
   "source": [
    "url = 'https://ldjwj.github.io/00_SBA01_BigData/05_HTML/idx_lec_list'\n",
    "driver.get(url)\n",
    "sel_content = driver.find_elements_by_css_selector('body div div div div div div')\n",
    "sel_link = driver.find_elements_by_link_text('Link')\n",
    "Content_name = []\n",
    "Content_link = []\n",
    "for one in range(6, len(sel_content), 4):\n",
    "    Content_name.append(sel_content[one].text)\n",
    "for i in sel_link:\n",
    "    Content_link.append(i.get_attribute('href'))\n",
    "for i in range(len(Content_name)):\n",
    "    print(Content_name[i], '\\n',Content_link[i])\n",
    "    print()"
   ]
  },
  {
   "cell_type": "code",
   "execution_count": 141,
   "metadata": {
    "collapsed": true
   },
   "outputs": [
    {
     "name": "stdout",
     "output_type": "stream",
     "text": [
      "https://github.com/LDJWJ/RBasic/tree/master/01_RClass\n",
      "https://ldjwj.github.io/00_SBA01_BigData/05_HTML/01_RClass/Stat01_01_Basic_Summary_v12.pdf\n",
      "https://ldjwj.github.io/00_SBA01_BigData/05_HTML/01_RClass/Stat01_02_Hypo_v10.pdf\n",
      "https://ldjwj.github.io/00_SBA01_BigData/05_HTML/01_RClass/stat01_Lab02_ttest_v11.html\n",
      "https://ldjwj.github.io/00_SBA01_BigData/05_HTML/01_RClass/stat01_Lab02_v10.html\n",
      "https://ldjwj.github.io/00_SBA01_BigData/05_HTML/01_RClass/Stat02_Regression_v10.pdf\n",
      "https://ldjwj.github.io/00_SBA01_BigData/05_HTML/01_RClass/stat02_Lab01_lm_firstmodel.html\n",
      "https://ldjwj.github.io/00_SBA01_BigData/05_HTML/01_RClass/stat02_Lab02_lm_mtcars.html\n",
      "https://ldjwj.github.io/00_SBA01_BigData/05_HTML/01_RClass/stat02_Lab03_lm_housing.html\n",
      "https://ldjwj.github.io/00_SBA01_BigData/05_HTML/01_RClass/stat02_Lab04_lm_house_adv.html\n",
      "https://ldjwj.github.io/00_SBA01_BigData/05_HTML/01_RClass/stat03_Lab05_logit_indian.html\n",
      "https://ldjwj.github.io/00_SBA01_BigData/05_HTML/01_RClass/stat04_decisiontree_v11.pdf\n",
      "https://ldjwj.github.io/00_SBA01_BigData/05_HTML/01_RClass/stat04_Lab01_tree_titanic.html\n",
      "https://ldjwj.github.io/00_SBA01_BigData/05_HTML/01_RClass/stat04_Lab02_tree_titanic.html\n",
      "https://ldjwj.github.io/00_SBA01_BigData/05_HTML/01_RClass/stat02_Lab03_eda_housing.html\n",
      "https://ldjwj.github.io/00_SBA01_BigData/05_HTML/01_RClass/R_LV_Up08_TextMining.html\n",
      "https://ldjwj.github.io/00_SBA01_BigData/05_HTML/01_RClass/TM_Lab01_KoNLP.html\n",
      "https://ldjwj.github.io/00_SBA01_BigData/05_HTML/01_RClass/TM_LAB06_sentiment.html\n",
      "https://ldjwj.github.io/00_SBA01_BigData/05_HTML/01_RClass/TM_Lab02_tfidf01.html\n",
      "https://ldjwj.github.io/00_SBA01_BigData/05_HTML/01_RClass/R_MYSQL_01_1909.pdf\n",
      "https://ldjwj.github.io/00_SBA01_BigData/05_HTML/01_RClass/R_LV_Up_MySQL01.html\n",
      "https://ldjwj.github.io/00_SBA01_BigData/05_HTML/01_RClass/B01_dataVis0418.pdf\n",
      "https://ldjwj.github.io/00_SBA01_BigData/05_HTML/01_RClass/B01_plot_basic.pdf\n",
      "https://ldjwj.github.io/00_SBA01_BigData/05_HTML/01_RClass/B02_ggplot2_jitter.pdf\n",
      "https://ldjwj.github.io/00_SBA01_BigData/05_HTML/01_RClass/B03_ggplot2_custom.pdf\n",
      "https://ldjwj.github.io/00_SBA01_BigData/05_HTML/01_RClass/DataVis_R_Lab07_networkAna01.r\n",
      "https://ldjwj.github.io/00_SBA01_BigData/05_HTML/01_RClass/G01_Graph_0601.r\n",
      "https://ldjwj.github.io/00_SBA01_BigData/05_HTML/01_RClass/G02_Graph_0601.r\n",
      "https://colorlib.com/wp/template/responsive-table-v2/\n"
     ]
    }
   ],
   "source": [
    "sel_link6 = driver.find_elements_by_xpath('//a[@href]')\n",
    "for i in sel_link6:\n",
    "    print(i.get_attribute('href'))"
   ]
  },
  {
   "cell_type": "markdown",
   "metadata": {},
   "source": [
    "* 5-4 (추가)실습 - 아래 링크의 전체 내용을 가져와 이를 엑셀로 정리해 보자."
   ]
  },
  {
   "cell_type": "markdown",
   "metadata": {},
   "source": [
    "## 6-1 실습1. BeautifulSoup를 이용해서 전체 링크 내용을 가져와 보자."
   ]
  },
  {
   "cell_type": "code",
   "execution_count": 154,
   "metadata": {},
   "outputs": [],
   "source": [
    "from bs4 import BeautifulSoup"
   ]
  },
  {
   "cell_type": "code",
   "execution_count": 156,
   "metadata": {},
   "outputs": [
    {
     "data": {
      "text/plain": [
       "<title>나의 웹 페이지</title>"
      ]
     },
     "execution_count": 156,
     "metadata": {},
     "output_type": "execute_result"
    }
   ],
   "source": [
    "page = driver.page_source\n",
    "soup = BeautifulSoup(page, 'lxml')\n",
    "soup.title"
   ]
  },
  {
   "cell_type": "markdown",
   "metadata": {},
   "source": [
    "## 6-1 실습1. BeautifulSoup를 이용해서 전체 링크 내용을 가져와 보자."
   ]
  },
  {
   "cell_type": "code",
   "execution_count": 159,
   "metadata": {
    "collapsed": true
   },
   "outputs": [
    {
     "name": "stdout",
     "output_type": "stream",
     "text": [
      " 01. 제목 가져오기(title) \n",
      " 02. 텍스트 가져오기(p) \n",
      " 03. 링크 가져오기(a) \n",
      " 04. 이미지 정보 가져오기(img) \n",
      " 05. 리스트 정보 가져오기(ul,ol) \n",
      " 06. id를 활용한 정보 획득 \n",
      " 07. class를 활용한 정보 획득 \n",
      " 08. 하나의 이미지 다운로드 \n",
      " 09. 여러개의 이미지 다운로드 \n",
      " 10. 랭킹 정보 가져오기(웹 크롤링) \n"
     ]
    }
   ],
   "source": [
    "a_all = soup.find_all(\"a\")\n",
    "\n",
    "for one in a_all:\n",
    "    print(one.text)"
   ]
  },
  {
   "cell_type": "markdown",
   "metadata": {},
   "source": [
    "## 6-2 실습2. Selenium를 이용(함수 find_elements...)을 이용해서 전체 링크를 가져와 보자."
   ]
  },
  {
   "cell_type": "code",
   "execution_count": 187,
   "metadata": {},
   "outputs": [],
   "source": [
    "import time\n",
    "import lxml\n",
    "url = 'https://pythonstart.github.io/web/'\n",
    "start = time.time()\n",
    "driver = webdriver.Chrome('./chromedriver')\n",
    "driver.get(url)"
   ]
  },
  {
   "cell_type": "code",
   "execution_count": 188,
   "metadata": {
    "collapsed": true
   },
   "outputs": [
    {
     "name": "stdout",
     "output_type": "stream",
     "text": [
      "01. 제목 가져오기(title)\n",
      "02. 텍스트 가져오기(p)\n",
      "03. 링크 가져오기(a)\n",
      "04. 이미지 정보 가져오기(img)\n",
      "05. 리스트 정보 가져오기(ul,ol)\n",
      "06. id를 활용한 정보 획득\n",
      "07. class를 활용한 정보 획득\n",
      "08. 하나의 이미지 다운로드\n",
      "09. 여러개의 이미지 다운로드\n",
      "10. 랭킹 정보 가져오기(웹 크롤링)\n"
     ]
    }
   ],
   "source": [
    "a_sel = driver.find_elements_by_tag_name(\"a\")\n",
    "\n",
    "for one in a_sel:\n",
    "    print(one.text)"
   ]
  },
  {
   "cell_type": "markdown",
   "metadata": {},
   "source": [
    "## 6-2 (추가) 02. 텍스트 가져오기, 03. 링크 가져오기 페이지의 내용을 가지고 오기."
   ]
  },
  {
   "cell_type": "code",
   "execution_count": null,
   "metadata": {},
   "outputs": [],
   "source": []
  }
 ],
 "metadata": {
  "kernelspec": {
   "display_name": "Python 3",
   "language": "python",
   "name": "python3"
  },
  "language_info": {
   "codemirror_mode": {
    "name": "ipython",
    "version": 3
   },
   "file_extension": ".py",
   "mimetype": "text/x-python",
   "name": "python",
   "nbconvert_exporter": "python",
   "pygments_lexer": "ipython3",
   "version": "3.8.5"
  }
 },
 "nbformat": 4,
 "nbformat_minor": 4
}
