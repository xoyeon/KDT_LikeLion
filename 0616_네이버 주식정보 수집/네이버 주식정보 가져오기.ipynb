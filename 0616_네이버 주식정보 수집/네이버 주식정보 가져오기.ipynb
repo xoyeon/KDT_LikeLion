{
 "cells": [
  {
   "cell_type": "code",
   "execution_count": 19,
   "metadata": {},
   "outputs": [],
   "source": [
    "from urllib.request import urlopen\n",
    "from bs4 import BeautifulSoup"
   ]
  },
  {
   "cell_type": "code",
   "execution_count": 20,
   "metadata": {},
   "outputs": [],
   "source": [
    "url = \"https://finance.naver.com/sise/\""
   ]
  },
  {
   "cell_type": "code",
   "execution_count": 21,
   "metadata": {},
   "outputs": [
    {
     "data": {
      "text/plain": [
       "bs4.BeautifulSoup"
      ]
     },
     "execution_count": 21,
     "metadata": {},
     "output_type": "execute_result"
    }
   ],
   "source": [
    "page = urlopen(url)\n",
    "soup = BeautifulSoup(page, \"html.parser\")\n",
    "type(soup)"
   ]
  },
  {
   "cell_type": "markdown",
   "metadata": {},
   "source": [
    "id를 이용해서 정보를 가져올 수 있다."
   ]
  },
  {
   "cell_type": "code",
   "execution_count": 22,
   "metadata": {},
   "outputs": [
    {
     "name": "stdout",
     "output_type": "stream",
     "text": [
      "현재 코스닥지수 : 997.41\n",
      "현재 코스피지수 : 3,252.13\n",
      "현재 코스피200지수 : 433.22\n"
     ]
    }
   ],
   "source": [
    "# tag : span\n",
    "# id : KOSPI_now\n",
    "kosdaq = soup.find('span', id='KOSDAQ_now') # 코스닥\n",
    "kospi = soup.find('span', id='KOSPI_now') # 코스피\n",
    "kpi200 = soup.find('span', id='KPI200_now') # 코스피200\n",
    "print(\"현재 코스닥지수 : {}\".format(kosdaq.get_text() ) )\n",
    "print(\"현재 코스피지수 : {}\".format(kospi.get_text() ) )\n",
    "print(\"현재 코스피200지수 : {}\".format(kpi200.get_text()) )"
   ]
  },
  {
   "cell_type": "code",
   "execution_count": 23,
   "metadata": {},
   "outputs": [
    {
     "name": "stdout",
     "output_type": "stream",
     "text": [
      "현재 코스피 지수는 : 3,252.13\n",
      "현재 코스닥 지수는 : 997.41\n",
      "현재 코스피200 지수는 : 433.22\n"
     ]
    }
   ],
   "source": [
    "kosdaq = soup.find('span', id='KOSDAQ_now').text # 코스닥\n",
    "kospi = soup.find('span', id='KOSPI_now').text # 코스피\n",
    "kpi200 = soup.find('span', id='KPI200_now').text # 코스피200\n",
    "print(\"현재 코스피 지수는 :\", kospi)\n",
    "print(\"현재 코스닥 지수는 :\", kosdaq)\n",
    "print(\"현재 코스피200 지수는 :\", kpi200)"
   ]
  },
  {
   "cell_type": "markdown",
   "metadata": {},
   "source": [
    "프로그램 매매동향 추가정보 가져오기"
   ]
  },
  {
   "cell_type": "code",
   "execution_count": 24,
   "metadata": {},
   "outputs": [
    {
     "name": "stdout",
     "output_type": "stream",
     "text": [
      "코스피200의 매매동향 :  \n",
      "프로그램 매매동향\n",
      "\n",
      "차익\n",
      "-100억\n",
      "\n",
      "\n",
      "비차익\n",
      "-814억\n",
      "\n",
      "\n",
      "전체\n",
      "-914억\n",
      "\n",
      "\n"
     ]
    }
   ],
   "source": [
    "trend = soup.find(\"dl\", id =\"basis_trend\").text\n",
    "print(\"코스피200의 매매동향 : \", trend)"
   ]
  },
  {
   "cell_type": "code",
   "execution_count": 25,
   "metadata": {},
   "outputs": [
    {
     "name": "stdout",
     "output_type": "stream",
     "text": [
      " 차익 -100억 \n",
      " 비차익 -814억 \n",
      " 전체 -914억 \n"
     ]
    }
   ],
   "source": [
    "soup_p = soup.find(\"div\", id='tab_sel3_risefall').find(\"dd\", class_=\"profit\").text\n",
    "print( soup_p.replace(\"\\n\", \" \") )\n",
    "\n",
    "soup_p = soup.find(\"div\", id='tab_sel3_risefall').find(\"dd\", class_=\"loss\").text\n",
    "print( soup_p.replace(\"\\n\", \" \") )\n",
    "\n",
    "soup_p = soup.find(\"div\", id='tab_sel3_risefall').find(\"dd\", class_=\"total\").text\n",
    "print( soup_p.replace(\"\\n\", \" \") )"
   ]
  },
  {
   "cell_type": "code",
   "execution_count": 26,
   "metadata": {},
   "outputs": [
    {
     "name": "stdout",
     "output_type": "stream",
     "text": [
      "\n",
      "차익\n",
      "-100억\n",
      "\n",
      "\n",
      "비차익\n",
      "-814억\n",
      "\n",
      "\n",
      "전체\n",
      "-914억\n",
      "\n"
     ]
    }
   ],
   "source": [
    "profit = soup.find(\"dl\", id=\"basis_trend\").find(\"dd\",class_=\"profit\").text\n",
    "print(profit)\n",
    "loss = soup.find(\"dl\", id=\"basis_trend\").find(\"dd\",class_=\"loss\").text\n",
    "print(loss)\n",
    "total = soup.find(\"dl\", id=\"basis_trend\").find(\"dd\",class_=\"total\").text\n",
    "print(total) "
   ]
  }
 ],
 "metadata": {
  "kernelspec": {
   "display_name": "Python 3",
   "language": "python",
   "name": "python3"
  },
  "language_info": {
   "codemirror_mode": {
    "name": "ipython",
    "version": 3
   },
   "file_extension": ".py",
   "mimetype": "text/x-python",
   "name": "python",
   "nbconvert_exporter": "python",
   "pygments_lexer": "ipython3",
   "version": "3.8.5"
  }
 },
 "nbformat": 4,
 "nbformat_minor": 4
}
